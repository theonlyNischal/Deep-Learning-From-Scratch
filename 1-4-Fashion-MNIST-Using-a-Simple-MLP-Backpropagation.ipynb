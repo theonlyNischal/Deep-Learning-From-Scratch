{
 "cells": [
  {
   "cell_type": "markdown",
   "metadata": {},
   "source": [
    "In this notebook we will train a very simple 3-layer neural network to classify the Fashion-MNIST datset. The dataset consists images that are to be classified into 10 different categories.[More Info](https://www.kaggle.com/zalando-research/fashionmnist)\n",
    "\n",
    "We will use a 3-layer neural network. The first layer being just input layer with 784 neurons(The images are 28x28 pixels), the second layer consist of 264 layers and the final layer consist of 10 neurons. The final layer gives the prediction of our model. A softmax function can be used at the final layer so the the final layer looks like a probability\n",
    "of occurence of certain category in range of 0 and 1.\n",
    "\n",
    "\n",
    "First Let's import all necessary packages and set the seed to 0.\n",
    "Setting seed to a number will force numpy to generate same random number pattern every time."
   ]
  },
  {
   "cell_type": "code",
   "execution_count": 17,
   "metadata": {},
   "outputs": [],
   "source": [
    "import numpy as np\n",
    "\n",
    "np.random.seed(0) # set the seed to choose exact random values\n",
    "import pandas as pd\n",
    "import matplotlib.pyplot as plt"
   ]
  },
  {
   "cell_type": "markdown",
   "metadata": {},
   "source": [
    "The training set consist of 785 columns, the first one being the label and rest 784 are input pixels."
   ]
  },
  {
   "cell_type": "code",
   "execution_count": 18,
   "metadata": {},
   "outputs": [
    {
     "data": {
      "text/html": [
       "<div>\n",
       "<style scoped>\n",
       "    .dataframe tbody tr th:only-of-type {\n",
       "        vertical-align: middle;\n",
       "    }\n",
       "\n",
       "    .dataframe tbody tr th {\n",
       "        vertical-align: top;\n",
       "    }\n",
       "\n",
       "    .dataframe thead th {\n",
       "        text-align: right;\n",
       "    }\n",
       "</style>\n",
       "<table border=\"1\" class=\"dataframe\">\n",
       "  <thead>\n",
       "    <tr style=\"text-align: right;\">\n",
       "      <th></th>\n",
       "      <th>label</th>\n",
       "      <th>pixel1</th>\n",
       "      <th>pixel2</th>\n",
       "      <th>pixel3</th>\n",
       "      <th>pixel4</th>\n",
       "      <th>pixel5</th>\n",
       "      <th>pixel6</th>\n",
       "      <th>pixel7</th>\n",
       "      <th>pixel8</th>\n",
       "      <th>pixel9</th>\n",
       "      <th>...</th>\n",
       "      <th>pixel775</th>\n",
       "      <th>pixel776</th>\n",
       "      <th>pixel777</th>\n",
       "      <th>pixel778</th>\n",
       "      <th>pixel779</th>\n",
       "      <th>pixel780</th>\n",
       "      <th>pixel781</th>\n",
       "      <th>pixel782</th>\n",
       "      <th>pixel783</th>\n",
       "      <th>pixel784</th>\n",
       "    </tr>\n",
       "  </thead>\n",
       "  <tbody>\n",
       "    <tr>\n",
       "      <th>0</th>\n",
       "      <td>2</td>\n",
       "      <td>0</td>\n",
       "      <td>0</td>\n",
       "      <td>0</td>\n",
       "      <td>0</td>\n",
       "      <td>0</td>\n",
       "      <td>0</td>\n",
       "      <td>0</td>\n",
       "      <td>0</td>\n",
       "      <td>0</td>\n",
       "      <td>...</td>\n",
       "      <td>0</td>\n",
       "      <td>0</td>\n",
       "      <td>0</td>\n",
       "      <td>0</td>\n",
       "      <td>0</td>\n",
       "      <td>0</td>\n",
       "      <td>0</td>\n",
       "      <td>0</td>\n",
       "      <td>0</td>\n",
       "      <td>0</td>\n",
       "    </tr>\n",
       "    <tr>\n",
       "      <th>1</th>\n",
       "      <td>9</td>\n",
       "      <td>0</td>\n",
       "      <td>0</td>\n",
       "      <td>0</td>\n",
       "      <td>0</td>\n",
       "      <td>0</td>\n",
       "      <td>0</td>\n",
       "      <td>0</td>\n",
       "      <td>0</td>\n",
       "      <td>0</td>\n",
       "      <td>...</td>\n",
       "      <td>0</td>\n",
       "      <td>0</td>\n",
       "      <td>0</td>\n",
       "      <td>0</td>\n",
       "      <td>0</td>\n",
       "      <td>0</td>\n",
       "      <td>0</td>\n",
       "      <td>0</td>\n",
       "      <td>0</td>\n",
       "      <td>0</td>\n",
       "    </tr>\n",
       "    <tr>\n",
       "      <th>2</th>\n",
       "      <td>6</td>\n",
       "      <td>0</td>\n",
       "      <td>0</td>\n",
       "      <td>0</td>\n",
       "      <td>0</td>\n",
       "      <td>0</td>\n",
       "      <td>0</td>\n",
       "      <td>0</td>\n",
       "      <td>5</td>\n",
       "      <td>0</td>\n",
       "      <td>...</td>\n",
       "      <td>0</td>\n",
       "      <td>0</td>\n",
       "      <td>0</td>\n",
       "      <td>30</td>\n",
       "      <td>43</td>\n",
       "      <td>0</td>\n",
       "      <td>0</td>\n",
       "      <td>0</td>\n",
       "      <td>0</td>\n",
       "      <td>0</td>\n",
       "    </tr>\n",
       "    <tr>\n",
       "      <th>3</th>\n",
       "      <td>0</td>\n",
       "      <td>0</td>\n",
       "      <td>0</td>\n",
       "      <td>0</td>\n",
       "      <td>1</td>\n",
       "      <td>2</td>\n",
       "      <td>0</td>\n",
       "      <td>0</td>\n",
       "      <td>0</td>\n",
       "      <td>0</td>\n",
       "      <td>...</td>\n",
       "      <td>3</td>\n",
       "      <td>0</td>\n",
       "      <td>0</td>\n",
       "      <td>0</td>\n",
       "      <td>0</td>\n",
       "      <td>1</td>\n",
       "      <td>0</td>\n",
       "      <td>0</td>\n",
       "      <td>0</td>\n",
       "      <td>0</td>\n",
       "    </tr>\n",
       "    <tr>\n",
       "      <th>4</th>\n",
       "      <td>3</td>\n",
       "      <td>0</td>\n",
       "      <td>0</td>\n",
       "      <td>0</td>\n",
       "      <td>0</td>\n",
       "      <td>0</td>\n",
       "      <td>0</td>\n",
       "      <td>0</td>\n",
       "      <td>0</td>\n",
       "      <td>0</td>\n",
       "      <td>...</td>\n",
       "      <td>0</td>\n",
       "      <td>0</td>\n",
       "      <td>0</td>\n",
       "      <td>0</td>\n",
       "      <td>0</td>\n",
       "      <td>0</td>\n",
       "      <td>0</td>\n",
       "      <td>0</td>\n",
       "      <td>0</td>\n",
       "      <td>0</td>\n",
       "    </tr>\n",
       "    <tr>\n",
       "      <th>5</th>\n",
       "      <td>4</td>\n",
       "      <td>0</td>\n",
       "      <td>0</td>\n",
       "      <td>0</td>\n",
       "      <td>5</td>\n",
       "      <td>4</td>\n",
       "      <td>5</td>\n",
       "      <td>5</td>\n",
       "      <td>3</td>\n",
       "      <td>5</td>\n",
       "      <td>...</td>\n",
       "      <td>7</td>\n",
       "      <td>8</td>\n",
       "      <td>7</td>\n",
       "      <td>4</td>\n",
       "      <td>3</td>\n",
       "      <td>7</td>\n",
       "      <td>5</td>\n",
       "      <td>0</td>\n",
       "      <td>0</td>\n",
       "      <td>0</td>\n",
       "    </tr>\n",
       "    <tr>\n",
       "      <th>6</th>\n",
       "      <td>4</td>\n",
       "      <td>0</td>\n",
       "      <td>0</td>\n",
       "      <td>0</td>\n",
       "      <td>0</td>\n",
       "      <td>0</td>\n",
       "      <td>0</td>\n",
       "      <td>0</td>\n",
       "      <td>0</td>\n",
       "      <td>0</td>\n",
       "      <td>...</td>\n",
       "      <td>14</td>\n",
       "      <td>0</td>\n",
       "      <td>0</td>\n",
       "      <td>0</td>\n",
       "      <td>0</td>\n",
       "      <td>0</td>\n",
       "      <td>0</td>\n",
       "      <td>0</td>\n",
       "      <td>0</td>\n",
       "      <td>0</td>\n",
       "    </tr>\n",
       "    <tr>\n",
       "      <th>7</th>\n",
       "      <td>5</td>\n",
       "      <td>0</td>\n",
       "      <td>0</td>\n",
       "      <td>0</td>\n",
       "      <td>0</td>\n",
       "      <td>0</td>\n",
       "      <td>0</td>\n",
       "      <td>0</td>\n",
       "      <td>0</td>\n",
       "      <td>0</td>\n",
       "      <td>...</td>\n",
       "      <td>0</td>\n",
       "      <td>0</td>\n",
       "      <td>0</td>\n",
       "      <td>0</td>\n",
       "      <td>0</td>\n",
       "      <td>0</td>\n",
       "      <td>0</td>\n",
       "      <td>0</td>\n",
       "      <td>0</td>\n",
       "      <td>0</td>\n",
       "    </tr>\n",
       "    <tr>\n",
       "      <th>8</th>\n",
       "      <td>4</td>\n",
       "      <td>0</td>\n",
       "      <td>0</td>\n",
       "      <td>0</td>\n",
       "      <td>0</td>\n",
       "      <td>0</td>\n",
       "      <td>0</td>\n",
       "      <td>3</td>\n",
       "      <td>2</td>\n",
       "      <td>0</td>\n",
       "      <td>...</td>\n",
       "      <td>1</td>\n",
       "      <td>0</td>\n",
       "      <td>0</td>\n",
       "      <td>0</td>\n",
       "      <td>0</td>\n",
       "      <td>0</td>\n",
       "      <td>0</td>\n",
       "      <td>0</td>\n",
       "      <td>0</td>\n",
       "      <td>0</td>\n",
       "    </tr>\n",
       "    <tr>\n",
       "      <th>9</th>\n",
       "      <td>8</td>\n",
       "      <td>0</td>\n",
       "      <td>0</td>\n",
       "      <td>0</td>\n",
       "      <td>0</td>\n",
       "      <td>0</td>\n",
       "      <td>0</td>\n",
       "      <td>0</td>\n",
       "      <td>0</td>\n",
       "      <td>0</td>\n",
       "      <td>...</td>\n",
       "      <td>203</td>\n",
       "      <td>214</td>\n",
       "      <td>166</td>\n",
       "      <td>0</td>\n",
       "      <td>0</td>\n",
       "      <td>0</td>\n",
       "      <td>0</td>\n",
       "      <td>0</td>\n",
       "      <td>0</td>\n",
       "      <td>0</td>\n",
       "    </tr>\n",
       "  </tbody>\n",
       "</table>\n",
       "<p>10 rows × 785 columns</p>\n",
       "</div>"
      ],
      "text/plain": [
       "   label  pixel1  pixel2  pixel3  pixel4  pixel5  pixel6  pixel7  pixel8  \\\n",
       "0      2       0       0       0       0       0       0       0       0   \n",
       "1      9       0       0       0       0       0       0       0       0   \n",
       "2      6       0       0       0       0       0       0       0       5   \n",
       "3      0       0       0       0       1       2       0       0       0   \n",
       "4      3       0       0       0       0       0       0       0       0   \n",
       "5      4       0       0       0       5       4       5       5       3   \n",
       "6      4       0       0       0       0       0       0       0       0   \n",
       "7      5       0       0       0       0       0       0       0       0   \n",
       "8      4       0       0       0       0       0       0       3       2   \n",
       "9      8       0       0       0       0       0       0       0       0   \n",
       "\n",
       "   pixel9  ...  pixel775  pixel776  pixel777  pixel778  pixel779  pixel780  \\\n",
       "0       0  ...         0         0         0         0         0         0   \n",
       "1       0  ...         0         0         0         0         0         0   \n",
       "2       0  ...         0         0         0        30        43         0   \n",
       "3       0  ...         3         0         0         0         0         1   \n",
       "4       0  ...         0         0         0         0         0         0   \n",
       "5       5  ...         7         8         7         4         3         7   \n",
       "6       0  ...        14         0         0         0         0         0   \n",
       "7       0  ...         0         0         0         0         0         0   \n",
       "8       0  ...         1         0         0         0         0         0   \n",
       "9       0  ...       203       214       166         0         0         0   \n",
       "\n",
       "   pixel781  pixel782  pixel783  pixel784  \n",
       "0         0         0         0         0  \n",
       "1         0         0         0         0  \n",
       "2         0         0         0         0  \n",
       "3         0         0         0         0  \n",
       "4         0         0         0         0  \n",
       "5         5         0         0         0  \n",
       "6         0         0         0         0  \n",
       "7         0         0         0         0  \n",
       "8         0         0         0         0  \n",
       "9         0         0         0         0  \n",
       "\n",
       "[10 rows x 785 columns]"
      ]
     },
     "metadata": {},
     "output_type": "display_data"
    }
   ],
   "source": [
    "dataframe = pd.read_csv(\"fashion-mnist_train.csv\")\n",
    "\n",
    "display(dataframe[:10])\n",
    "\n"
   ]
  },
  {
   "cell_type": "markdown",
   "metadata": {},
   "source": [
    "Let's split the training set into train and test set. A separate test dataset is provided but we can split this\n",
    "training set for a quick experiment"
   ]
  },
  {
   "cell_type": "code",
   "execution_count": 19,
   "metadata": {},
   "outputs": [],
   "source": [
    "data = dataframe.values[:10000]\n",
    "\n",
    "labels = data[:, 0]\n",
    "images = data[:, 1:]\n",
    "\n",
    "images = images/255\n",
    "\n",
    "train_test_split = 0.6\n",
    "train_test_split_index = int(len(images) * train_test_split)\n",
    "training_images = images[:train_test_split_index]\n",
    "testing_images = images[train_test_split_index: ]\n"
   ]
  },
  {
   "cell_type": "markdown",
   "metadata": {},
   "source": [
    "The output of the model will be a vector of size (1,10), so let's one-hot encode the label where the index of label\n",
    "will be 1 and rest of them will be 0.\n",
    "\n",
    "i.e if label is 2, the one-hot label will be [0 0 1 0 0 0 0 0 0 0]"
   ]
  },
  {
   "cell_type": "code",
   "execution_count": 20,
   "metadata": {},
   "outputs": [
    {
     "name": "stdout",
     "output_type": "stream",
     "text": [
      "6000\n",
      "4000\n"
     ]
    }
   ],
   "source": [
    "one_hot_labels = []\n",
    "for label in labels:\n",
    "    base_label = np.zeros(10)\n",
    "    base_label[int(label)] = 1\n",
    "    one_hot_labels.append(base_label)\n",
    "\n",
    "labels = one_hot_labels\n",
    "training_labels = labels[:train_test_split_index]\n",
    "testing_labels = labels[train_test_split_index: ]\n",
    "\n",
    "assert(len(training_images) == len(training_labels))\n",
    "assert(len(testing_images) == len(testing_labels))\n",
    "\n",
    "print(len(training_images))\n",
    "print(len(testing_images))"
   ]
  },
  {
   "cell_type": "markdown",
   "metadata": {},
   "source": [
    "A simple helper dictionary to map the index to label name. 0 will be t-shirt, 1 will be trousers and so on."
   ]
  },
  {
   "cell_type": "code",
   "execution_count": 21,
   "metadata": {},
   "outputs": [],
   "source": [
    "index_to_label_name = {\n",
    "    0: \"t-shirt\", 1: \"trousers\", 2: \"pullover\", 3: \"dress\", 4: \"coat\", 5: \"sandal\", 6: \"shirt\", 7: \"sneaker\",\n",
    "    8: \"bag\", 9: \"ankle boot\"\n",
    "}\n"
   ]
  },
  {
   "cell_type": "markdown",
   "metadata": {},
   "source": [
    "Let's view a single sample image and its label"
   ]
  },
  {
   "cell_type": "code",
   "execution_count": 22,
   "metadata": {},
   "outputs": [
    {
     "data": {
      "text/plain": [
       "<matplotlib.image.AxesImage at 0x7ffb1fe5e070>"
      ]
     },
     "execution_count": 22,
     "metadata": {},
     "output_type": "execute_result"
    },
    {
     "data": {
      "image/png": "[encoded data removed]",
      "text/plain": [
       "<Figure size 432x288 with 1 Axes>"
      ]
     },
     "metadata": {
      "needs_background": "light"
     },
     "output_type": "display_data"
    }
   ],
   "source": [
    "sample_image = training_images[7]\n",
    "sample_label = index_to_label_name[np.argmax(training_labels[7])]\n",
    "plt.title(sample_label)\n",
    "plt.imshow(sample_image.reshape(28,28), cmap=\"gray\")"
   ]
  },
  {
   "cell_type": "markdown",
   "metadata": {},
   "source": [
    "Now we will define our hidden and output layer size. Also we will initialize our weights with some random values."
   ]
  },
  {
   "cell_type": "code",
   "execution_count": 23,
   "metadata": {},
   "outputs": [
    {
     "name": "stdout",
     "output_type": "stream",
     "text": [
      "(784, 264)\n",
      "(264, 10)\n",
      "(784,)\n"
     ]
    }
   ],
   "source": [
    "input_size = images.shape[1]\n",
    "hidden_size = 264\n",
    "output_size = 10\n",
    "\n",
    "weights_input_hidden = 0.2 * np.random.random((input_size, hidden_size)) - 0.1\n",
    "print(weights_input_hidden.shape)\n",
    "weights_hidden_output = 0.2 * np.random.random((hidden_size, output_size)) - 0.1\n",
    "print(weights_hidden_output.shape)\n",
    "\n",
    "def relu(x):\n",
    "    return (x>=0) * x # returns x if x>=0, else 0\n",
    "\n",
    "def relu2deriv(x):\n",
    "    return x>=0\n",
    "print(images[0].shape)\n",
    "\n"
   ]
  },
  {
   "cell_type": "markdown",
   "metadata": {},
   "source": [
    "Now we will train our model. Much have been said in previous notebook and [blog post](https://nischal.info.np/very-stupid-introduction-to-deep-learning)"
   ]
  },
  {
   "cell_type": "code",
   "execution_count": 10,
   "metadata": {},
   "outputs": [
    {
     "name": "stdout",
     "output_type": "stream",
     "text": [
      "Iter: 0 Train Error: 0.663 Accuracy: 64.367%\n",
      "Iter: 0 Test Error: 0.531 Accuracy: 74.125%\n",
      "Iter: 9 Train Error: 0.340 Accuracy: 83.150%\n",
      "Iter: 9 Test Error: 0.371 Accuracy: 81.400%\n",
      "Iter: 18 Train Error: 0.309 Accuracy: 84.467%\n",
      "Iter: 18 Test Error: 0.350 Accuracy: 82.325%\n",
      "Iter: 27 Train Error: 0.294 Accuracy: 85.350%\n",
      "Iter: 27 Test Error: 0.341 Accuracy: 82.800%\n",
      "Iter: 36 Train Error: 0.283 Accuracy: 85.933%\n",
      "Iter: 36 Test Error: 0.337 Accuracy: 83.025%\n",
      "Iter: 45 Train Error: 0.276 Accuracy: 86.717%\n",
      "Iter: 45 Test Error: 0.335 Accuracy: 82.750%\n",
      "Iter: 54 Train Error: 0.270 Accuracy: 87.217%\n",
      "Iter: 54 Test Error: 0.334 Accuracy: 82.725%\n",
      "Iter: 63 Train Error: 0.266 Accuracy: 87.567%\n",
      "Iter: 63 Test Error: 0.334 Accuracy: 82.650%\n",
      "Iter: 72 Train Error: 0.263 Accuracy: 87.967%\n",
      "Iter: 72 Test Error: 0.335 Accuracy: 82.600%\n",
      "Iter: 81 Train Error: 0.261 Accuracy: 88.167%\n",
      "Iter: 81 Test Error: 0.336 Accuracy: 82.575%\n",
      "Iter: 90 Train Error: 0.259 Accuracy: 88.550%\n",
      "Iter: 90 Test Error: 0.337 Accuracy: 82.500%\n",
      "Iter: 99 Train Error: 0.257 Accuracy: 88.867%\n",
      "Iter: 99 Test Error: 0.338 Accuracy: 82.400%\n"
     ]
    }
   ],
   "source": [
    "num_iterations = 108\n",
    "alpha = 0.001\n",
    "correct = 0\n",
    "\n",
    "training_error_list = []\n",
    "testing_error_list = []\n",
    "\n",
    "for itera in range(num_iterations):\n",
    "    train_error = 0\n",
    "    train_correct = 0\n",
    "    for idx in range(len(training_images)):\n",
    "        \n",
    "        \n",
    "        image = training_images[idx]\n",
    "        label = training_labels[idx]\n",
    "        \n",
    "        layer_0 = image # input layer just takes input\n",
    "\n",
    "        layer_1 = relu(layer_0.dot(weights_input_hidden))\n",
    "\n",
    "        layer_2 = layer_1.dot(weights_hidden_output)\n",
    "        \n",
    "        train_correct = train_correct + int(np.argmax(layer_2) == np.argmax(label))\n",
    "        train_error = train_error + np.sum((layer_2 - label) ** 2)\n",
    "        \n",
    "        layer_2_delta = layer_2 - label\n",
    "        layer_1_delta = layer_2_delta.dot(weights_hidden_output.T) * relu2deriv(layer_1)\n",
    "        \n",
    "        weights_hidden_output = weights_hidden_output - alpha * layer_1.reshape(264,1).dot(layer_2_delta.reshape(1,10))\n",
    "        weights_input_hidden = weights_input_hidden - alpha * layer_0.reshape(784, 1).dot(layer_1_delta.reshape(1,264))\n",
    "    \n",
    "    \n",
    "        \n",
    "\n",
    "    \n",
    "     \n",
    "    test_error = 0\n",
    "    test_correct = 0\n",
    "\n",
    "    for i in range(len(testing_images)):\n",
    "\n",
    "\n",
    "        image = testing_images[i]\n",
    "        label = testing_labels[i]\n",
    "        layer_0 = image # input layer just takes input\n",
    "\n",
    "        layer_1 = relu(layer_0.dot(weights_input_hidden))\n",
    "        layer_2 = layer_1.dot(weights_hidden_output)\n",
    "\n",
    "        test_correct = test_correct + int(np.argmax(layer_2) == np.argmax(label))\n",
    "\n",
    "        test_error = test_error + np.sum((layer_2 - label) ** 2)\n",
    "\n",
    "\n",
    "    \n",
    "    ## Print only 9th iteration\n",
    "    if itera % 9 == 0:\n",
    "\n",
    "        print(\"Iter: {} Train Error: {:.3f} Accuracy: {:.3f}%\"\n",
    "              .format(itera, train_error/len(training_images), train_correct/len(training_images) * 100))\n",
    "\n",
    "        print(\"Iter: {} Test Error: {:.3f} Accuracy: {:.3f}%\"\n",
    "              .format(itera, test_error/len(testing_images), test_correct/len(testing_images) * 100))\n",
    "    \n",
    "    \n",
    "    training_error_list.append(train_error/len(training_images))\n",
    "    testing_error_list.append(test_error/len(testing_images))\n",
    "\n",
    "        "
   ]
  },
  {
   "cell_type": "markdown",
   "metadata": {},
   "source": [
    "Let's visualize the training and testing loss, As we can see training loss is decreasing over time, but the testing\n",
    "loss is not decreasing at the same rate. This is due to overfitting. We can use validation set, dropout to regularize our model."
   ]
  },
  {
   "cell_type": "code",
   "execution_count": 13,
   "metadata": {},
   "outputs": [
    {
     "data": {
      "text/plain": [
       "<matplotlib.legend.Legend at 0x7ffb1ff624c0>"
      ]
     },
     "execution_count": 13,
     "metadata": {},
     "output_type": "execute_result"
    },
    {
     "data": {
      "image/png": "[encoded data removed]",
      "text/plain": [
       "<Figure size 432x288 with 1 Axes>"
      ]
     },
     "metadata": {
      "needs_background": "light"
     },
     "output_type": "display_data"
    }
   ],
   "source": [
    "plt.plot(training_error_list, 'r', label=\"Train loss\")\n",
    "plt.plot(testing_error_list, 'b', label=\"Test Loss\")\n",
    "plt.legend()\n"
   ]
  },
  {
   "cell_type": "markdown",
   "metadata": {},
   "source": [
    "Now Let's see how our model have done in a test set. We will pick some random images and output its predicion."
   ]
  },
  {
   "cell_type": "code",
   "execution_count": 14,
   "metadata": {},
   "outputs": [],
   "source": [
    "def predict(img, label):\n",
    "    label = index_to_label_name[np.argmax(label)]\n",
    "    layer_0 = img\n",
    "    layer_1 = relu(layer_0.dot(weights_input_hidden))\n",
    "    layer_2 = layer_1.dot(weights_hidden_output)\n",
    "    predicted_label = index_to_label_name[np.argmax(layer_2)]\n",
    "    \n",
    "    img = img.reshape((28,28))\n",
    "    plt.imshow(img, cmap=\"gray\")\n",
    "    plt.title(\"Predicted: {} Actual: {}\".format(predicted_label, label))\n",
    "    "
   ]
  },
  {
   "cell_type": "code",
   "execution_count": 15,
   "metadata": {},
   "outputs": [
    {
     "data": {
      "image/png": "[encoded data removed]",
      "text/plain": [
       "<Figure size 432x288 with 1 Axes>"
      ]
     },
     "metadata": {
      "needs_background": "light"
     },
     "output_type": "display_data"
    }
   ],
   "source": [
    "predict(testing_images[90], testing_labels[90])"
   ]
  },
  {
   "cell_type": "code",
   "execution_count": 16,
   "metadata": {},
   "outputs": [
    {
     "data": {
      "image/png": "[encoded data removed]",
      "text/plain": [
       "<Figure size 432x288 with 1 Axes>"
      ]
     },
     "metadata": {
      "needs_background": "light"
     },
     "output_type": "display_data"
    }
   ],
   "source": [
    "predict(testing_images[929], testing_labels[929])"
   ]
  },
  {
   "cell_type": "code",
   "execution_count": null,
   "metadata": {},
   "outputs": [],
   "source": []
  },
  {
   "cell_type": "code",
   "execution_count": null,
   "metadata": {},
   "outputs": [],
   "source": []
  }
 ],
 "metadata": {
  "kernelspec": {
   "display_name": "Python 3",
   "language": "python",
   "name": "python3"
  },
  "language_info": {
   "codemirror_mode": {
    "name": "ipython",
    "version": 3
   },
   "file_extension": ".py",
   "mimetype": "text/x-python",
   "name": "python",
   "nbconvert_exporter": "python",
   "pygments_lexer": "ipython3",
   "version": "3.8.1"
  }
 },
 "nbformat": 4,
 "nbformat_minor": 4
}
