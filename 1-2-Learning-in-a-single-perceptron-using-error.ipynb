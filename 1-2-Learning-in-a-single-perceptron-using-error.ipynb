{
 "cells": [
  {
   "cell_type": "code",
   "execution_count": 1,
   "metadata": {},
   "outputs": [
    {
     "name": "stdout",
     "output_type": "stream",
     "text": [
      "Error: 0.38439999999999985\n",
      "Error: 0.2712326399999999\n",
      "Error: 0.19138175078399997\n",
      "Error: 0.13503896335319035\n",
      "Error: 0.09528349254201114\n",
      "Error: 0.06723203233764305\n",
      "Error: 0.04743892201744093\n",
      "Error: 0.03347290337550631\n",
      "Error: 0.023618480621757244\n",
      "Error: 0.016665199926711928\n",
      "Error: 0.011758965068287918\n",
      "Error: 0.008297125752183958\n",
      "Error: 0.005854451930740985\n",
      "Error: 0.00413090128233085\n",
      "Error: 0.002914763944812641\n",
      "Error: 0.002056657439459807\n",
      "Error: 0.0014511774892828361\n",
      "Error: 0.0010239508364379725\n",
      "Error: 0.0007224997101906305\n",
      "Error: 0.0005097957955105112\n"
     ]
    }
   ],
   "source": [
    "input = 0.4\n",
    "weight = 0.2\n",
    "actual = 0.7\n",
    "\n",
    "for i in range(20):\n",
    "    prediction = input * weight\n",
    "    error = (prediction - actual) ** 2\n",
    "\n",
    "    delta = prediction - actual\n",
    "    weight_delta = delta * input\n",
    "\n",
    "    weight = weight - weight_delta\n",
    "\n",
    "    print(\"Error: {}\".format(error))"
   ]
  },
  {
   "cell_type": "code",
   "execution_count": 3,
   "metadata": {},
   "outputs": [
    {
     "name": "stdout",
     "output_type": "stream",
     "text": [
      "Prediction is: 0.6774213420347773\n"
     ]
    }
   ],
   "source": [
    "print(\"Prediction is: {}\".format(prediction))"
   ]
  },
  {
   "cell_type": "markdown",
   "metadata": {},
   "source": [
    "### Plotting the loss over iteration\n",
    "\n"
   ]
  },
  {
   "cell_type": "code",
   "execution_count": 7,
   "metadata": {},
   "outputs": [],
   "source": [
    "import matplotlib.pyplot as plt\n",
    "\n",
    "input = 0.4\n",
    "weight = 0.2\n",
    "actual = 0.7\n",
    "train_losses = list()\n",
    "\n",
    "for i in range(20):\n",
    "    prediction = input * weight\n",
    "    error = (prediction - actual) ** 2\n",
    "\n",
    "    delta = prediction - actual\n",
    "    weight_delta = delta * input\n",
    "\n",
    "    weight = weight - weight_delta\n",
    "\n",
    "    train_losses.append(error)"
   ]
  },
  {
   "cell_type": "code",
   "execution_count": 8,
   "metadata": {},
   "outputs": [
    {
     "data": {
      "text/plain": [
       "<matplotlib.legend.Legend at 0x7fd0245c6c10>"
      ]
     },
     "execution_count": 8,
     "metadata": {},
     "output_type": "execute_result"
    },
    {
     "data": {
      "image/png": "[encoded data removed]",
      "text/plain": [
       "<Figure size 432x288 with 1 Axes>"
      ]
     },
     "metadata": {
      "needs_background": "light"
     },
     "output_type": "display_data"
    }
   ],
   "source": [
    "plt.plot(train_losses, 'r', label=\"Train Loss\")\n",
    "plt.legend()"
   ]
  },
  {
   "cell_type": "markdown",
   "metadata": {},
   "source": [
    "The Train Loss is decreasing over iterations. This shows that our model is learning very well."
   ]
  },
  {
   "cell_type": "code",
   "execution_count": null,
   "metadata": {},
   "outputs": [],
   "source": []
  }
 ],
 "metadata": {
  "kernelspec": {
   "display_name": "Python 3",
   "language": "python",
   "name": "python3"
  },
  "language_info": {
   "codemirror_mode": {
    "name": "ipython",
    "version": 3
   },
   "file_extension": ".py",
   "mimetype": "text/x-python",
   "name": "python",
   "nbconvert_exporter": "python",
   "pygments_lexer": "ipython3",
   "version": "3.8.1"
  }
 },
 "nbformat": 4,
 "nbformat_minor": 4
}
