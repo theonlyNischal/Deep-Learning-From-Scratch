{
 "cells": [
  {
   "cell_type": "markdown",
   "metadata": {},
   "source": [
    "This notebook contains code and some description that was used in the [blog post](https://nischal.info.np/very-stupid-\n",
    "\n",
    "\n",
    "The task here is to classify animal as an Elephant or not Elephant. Certain animals will be represented using their features **weight of animal**, **height of animal**, **fur thickness**. These feautres will be scaled by some weights(number) according to their significance in the classifying task.\n",
    "\n",
    "Let we define an animal as:\n",
    "\n",
    "$$animal=[weight(inKG),height(Meter),fur(Centimeter)]$$\n",
    "\n",
    "We will find the weighted sum, then compare this weighted sum against a threshold and a decision is made."
   ]
  },
  {
   "cell_type": "code",
   "execution_count": 5,
   "metadata": {},
   "outputs": [],
   "source": [
    "animal_1 = [1000, 5, 2]\n",
    "animal_2 = [200, 3, 1]\n",
    "animal_3 = [30, 2, 2]\n",
    "\n",
    "weights = [2, 1, 0.5]\n",
    "## The features will be scaled by these weights.\n",
    "\n",
    "threshold = 1000\n",
    "\n",
    "def check_elephant(animal, weights):\n",
    "\n",
    "    weighted_sum = 0\n",
    "\n",
    "    for i in range(len(weights)):\n",
    "        weighted_sum = weighted_sum + animal[i] * weights[i]\n",
    "\n",
    "    print(\"Weighted Sum is {}.\".format(weighted_sum))\n",
    "\n",
    "    if weighted_sum >= 1000:\n",
    "        print(\"Given Animal is an Elephant.\")\n",
    "    else:\n",
    "        print(\"Given Animal is not an Elephant.\")"
   ]
  },
  {
   "cell_type": "code",
   "execution_count": 6,
   "metadata": {},
   "outputs": [
    {
     "name": "stdout",
     "output_type": "stream",
     "text": [
      "Weighted Sum is 2006.0.\n",
      "Given Animal is an Elephant.\n"
     ]
    }
   ],
   "source": [
    "check_elephant(animal_1, weights)"
   ]
  },
  {
   "cell_type": "code",
   "execution_count": 3,
   "metadata": {},
   "outputs": [
    {
     "name": "stdout",
     "output_type": "stream",
     "text": [
      "Weighted Sum is 403.5.\n",
      "Given Animal is not an Elephant.\n"
     ]
    }
   ],
   "source": [
    "check_elephant(animal_2, weights)"
   ]
  },
  {
   "cell_type": "code",
   "execution_count": 4,
   "metadata": {},
   "outputs": [
    {
     "name": "stdout",
     "output_type": "stream",
     "text": [
      "Weighted Sum is 63.0.\n",
      "Given Animal is not an Elephant.\n"
     ]
    }
   ],
   "source": [
    "check_elephant(animal_3, weights)"
   ]
  },
  {
   "cell_type": "code",
   "execution_count": null,
   "metadata": {},
   "outputs": [],
   "source": []
  }
 ],
 "metadata": {
  "kernelspec": {
   "display_name": "Python 3",
   "language": "python",
   "name": "python3"
  },
  "language_info": {
   "codemirror_mode": {
    "name": "ipython",
    "version": 3
   },
   "file_extension": ".py",
   "mimetype": "text/x-python",
   "name": "python",
   "nbconvert_exporter": "python",
   "pygments_lexer": "ipython3",
   "version": "3.8.1"
  }
 },
 "nbformat": 4,
 "nbformat_minor": 4
}
