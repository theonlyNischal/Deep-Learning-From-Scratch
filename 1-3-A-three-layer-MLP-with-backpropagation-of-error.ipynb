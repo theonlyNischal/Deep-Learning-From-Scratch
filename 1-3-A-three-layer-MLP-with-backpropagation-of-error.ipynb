{
 "cells": [
  {
   "cell_type": "code",
   "execution_count": 42,
   "metadata": {},
   "outputs": [],
   "source": [
    "import numpy as np"
   ]
  },
  {
   "cell_type": "code",
   "execution_count": 87,
   "metadata": {},
   "outputs": [],
   "source": [
    "\n",
    "inputs = np.array([[0.1, 0.2, 0.1]])\n",
    "\n",
    "input_size = 3\n",
    "hidden_size = 2\n",
    "output_size = 1\n",
    "\n",
    "actual = 0.3\n",
    "\n",
    "alpha = 0.2\n"
   ]
  },
  {
   "cell_type": "code",
   "execution_count": 88,
   "metadata": {},
   "outputs": [],
   "source": [
    "\n",
    "def sigmoid(x):\n",
    "\n",
    "    return 1 / (1 + np.exp(-x))\n",
    "\n",
    "def deriv2sigmoid(x):\n",
    "\n",
    "    return x * (1 - x)\n"
   ]
  },
  {
   "cell_type": "code",
   "execution_count": 89,
   "metadata": {},
   "outputs": [],
   "source": [
    "\n",
    "weight_input_to_hidden = 0.2 * np.random.random((input_size, hidden_size)) - 0.1\n",
    "weight_hidden_to_output = 0.2 * np.random.random((hidden_size, output_size)) - 0.1\n",
    "\n"
   ]
  },
  {
   "cell_type": "code",
   "execution_count": 92,
   "metadata": {},
   "outputs": [
    {
     "name": "stdout",
     "output_type": "stream",
     "text": [
      "Error is: [[4.14742919e-09]]\n",
      "Prediction is [[0.2999356]]\n",
      "Error is: [[6.26663874e-10]]\n",
      "Prediction is [[0.29997497]]\n",
      "Error is: [[9.46869065e-11]]\n",
      "Prediction is [[0.29999027]]\n",
      "Error is: [[1.43068834e-11]]\n",
      "Prediction is [[0.29999622]]\n",
      "Error is: [[2.16172321e-12]]\n",
      "Prediction is [[0.29999853]]\n",
      "Error is: [[3.26629276e-13]]\n",
      "Prediction is [[0.29999943]]\n",
      "Error is: [[4.93526096e-14]]\n",
      "Prediction is [[0.29999978]]\n"
     ]
    }
   ],
   "source": [
    "\n",
    "for i in range(60):\n",
    "\n",
    "    hidden_output = sigmoid(np.dot(inputs, weight_input_to_hidden))\n",
    "    output = np.dot(hidden_output, weight_hidden_to_output)\n",
    "    error = (actual - output) ** 2\n",
    "    \n",
    "    output_delta = output - actual\n",
    "\n",
    "    hidden_delta = output_delta.dot(weight_hidden_to_output.T) * deriv2sigmoid(hidden_output)\n",
    "    weight_hidden_to_output = weight_hidden_to_output - alpha * hidden_output.reshape((2,1)).dot(output_delta.reshape((1,1)))\n",
    "    weight_input_to_hidden = weight_input_to_hidden - alpha * inputs.reshape((3,1)).dot(hidden_delta.reshape((1,2)))\n",
    "    \n",
    "    if i % 9 ==0:\n",
    "        print(\"Error is: {}\".format(error))\n",
    "        print(\"Prediction is {}\".format(output))"
   ]
  },
  {
   "cell_type": "code",
   "execution_count": null,
   "metadata": {},
   "outputs": [],
   "source": []
  },
  {
   "cell_type": "code",
   "execution_count": null,
   "metadata": {},
   "outputs": [],
   "source": []
  }
 ],
 "metadata": {
  "kernelspec": {
   "display_name": "Python 3",
   "language": "python",
   "name": "python3"
  },
  "language_info": {
   "codemirror_mode": {
    "name": "ipython",
    "version": 3
   },
   "file_extension": ".py",
   "mimetype": "text/x-python",
   "name": "python",
   "nbconvert_exporter": "python",
   "pygments_lexer": "ipython3",
   "version": "3.8.1"
  }
 },
 "nbformat": 4,
 "nbformat_minor": 4
}
