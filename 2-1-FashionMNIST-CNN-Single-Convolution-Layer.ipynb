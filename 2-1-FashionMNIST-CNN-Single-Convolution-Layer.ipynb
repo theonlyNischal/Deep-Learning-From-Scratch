{
 "cells": [
  {
   "cell_type": "markdown",
   "metadata": {},
   "source": [
    "In this notebook we are going to use a simple Convolution neural net to classify a [FashionMNIST Dataset](https://www.kaggle.com/zalando-research/fashionmnist).\n",
    "\n",
    "**Difference Between Convolutional Neural Network and Multilayer Perceptron?**\n",
    "When we use MLP to classify MNIST we have flattened the 2D input image into a 1D tabular data. Doing this we are ignoring the rich structural information/spatial information a 2D image provide and are relying a bunch of flattened numbers only. Surely this is a limitation.\n",
    "\n",
    "Say we have a gray-level image **H**x**W**, what we do in convolution is we take kernels or filters usually in shape 3x3 or 5x5 and convolve them with subimages of input image in the same shape as kernel. The outcome of each operation will be a point in output activation map. i.e we are convolving filters with image. If we look in depth, actually this can be considered as a same process we do in baby linear layer. The difference is instead of taking a very large input layer we are taking a sample of the input layer. The same filter is used throughout the image, the idea is if a filter learn something to do say detect eye, then it can be used throughout the image from top to bottom, from left to right. So what it does is allow us to use same filter at different position which means the total number of parameter will be very less compared MLP.\n",
    "\n",
    "To solve FashionMNISt, we will use a simple CNN, it will have one convolution layer in which there will be 16 filters of size 3x3. Since there are 16 filters, the activation map from 1st convolution will have depth of 16. This activation map will be flattened and from here we will proceed as a MLP problem. We will use 100 neurons in next layer and 10 layers in output.\n",
    "\n",
    "\n",
    "For more details on CNN:\n",
    "\n",
    "\n",
    "[Convolutions and Backpropagations - Pavithra Solai](https://medium.com/@pavisj/convolutions-and-backpropagations-46026a8f5d2c)\n",
    "\n",
    "[Why do we rotate weights when computing the gradients in a convolution layer of a convolution network?](http://soumith.ch/ex/pages/2014/08/07/why-rotate-weights-convolution-gradient/)\n",
    "\n",
    "[A guide to convolution arithmetic for deep learning](https://arxiv.org/abs/1603.07285)\n",
    "\n",
    "[https://medium.com/@ageitgey/machine-learning-is-fun-part-3-deep-learning-and-convolutional-neural-networks-f40359318721](https://medium.com/@ageitgey/machine-learning-is-fun-part-3-deep-learning-and-convolutional-neural-networks-f40359318721)"
   ]
  },
  {
   "cell_type": "code",
   "execution_count": 1,
   "metadata": {},
   "outputs": [],
   "source": [
    "## Import necessary Packages\n",
    "\n",
    "import numpy as np\n",
    "import pandas as pd\n",
    "import matplotlib.pyplot as plt\n",
    "np.random.seed(1)"
   ]
  },
  {
   "cell_type": "code",
   "execution_count": 2,
   "metadata": {},
   "outputs": [
    {
     "name": "stdout",
     "output_type": "stream",
     "text": [
      "595\n",
      "105\n"
     ]
    }
   ],
   "source": [
    "## Read FashionMNIST Dataset\n",
    "dataframe = pd.read_csv(\"fashion-mnist_train.csv\")\n",
    "\n",
    "## Just using 700 images\n",
    "data = dataframe.values[:700]\n",
    "\n",
    "## Split labels and images\n",
    "labels = data[:, 0]\n",
    "images = data[:, 1:]\n",
    "\n",
    "## Normalize the image\n",
    "images = images/255\n",
    "\n",
    "## Splitting Training and Testing Set\n",
    "train_test_split = 0.85\n",
    "train_test_split_index = int(len(images) * train_test_split)\n",
    "training_images = images[:train_test_split_index ]\n",
    "testing_images = images[train_test_split_index: ]\n",
    "\n",
    "## One-hot encoding the labels\n",
    "\n",
    "one_hot_labels = []\n",
    "for label in labels:\n",
    "    base_label = np.zeros(10)\n",
    "    base_label[int(label)] = 1\n",
    "    one_hot_labels.append(base_label)\n",
    "\n",
    "labels = np.array(one_hot_labels)\n",
    "training_labels = labels[:train_test_split_index]\n",
    "testing_labels = labels[train_test_split_index: ]\n",
    "\n",
    "assert(len(training_images) == len(training_labels))\n",
    "assert(len(testing_images) == len(testing_labels))\n",
    "\n",
    "print(len(training_images))\n",
    "print(len(testing_images))"
   ]
  },
  {
   "cell_type": "code",
   "execution_count": 3,
   "metadata": {},
   "outputs": [],
   "source": [
    "## Labels name\n",
    "index_to_label_name = {\n",
    "    0: \"t-shirt\", 1: \"trousers\", 2: \"pullover\", 3: \"dress\", 4: \"coat\", 5: \"sandal\", 6: \"shirt\", 7: \"sneaker\",\n",
    "    8: \"bag\", 9: \"ankle boot\"\n",
    "}"
   ]
  },
  {
   "cell_type": "code",
   "execution_count": 4,
   "metadata": {},
   "outputs": [
    {
     "data": {
      "text/plain": [
       "<matplotlib.image.AxesImage at 0x7f2bc4703940>"
      ]
     },
     "execution_count": 4,
     "metadata": {},
     "output_type": "execute_result"
    },
    {
     "data": {
      "image/png": "[encoded data removed]",
      "text/plain": [
       "<Figure size 432x288 with 1 Axes>"
      ]
     },
     "metadata": {
      "needs_background": "light"
     },
     "output_type": "display_data"
    }
   ],
   "source": [
    "## Sample Training Image with label\n",
    "\n",
    "img = training_images[7].reshape((28,28))\n",
    "label = index_to_label_name[np.argmax(training_labels[7])]\n",
    "plt.title(label)\n",
    "plt.imshow(img, cmap=\"gray\")"
   ]
  },
  {
   "cell_type": "code",
   "execution_count": 5,
   "metadata": {},
   "outputs": [],
   "source": [
    "## Initialize weights\n",
    "\n",
    "input_image_height = input_image_width = 28\n",
    "input_image_depth = 1\n",
    "\n",
    "kernel_1_width = kernel_1_height = 3\n",
    "kernel_1_count = 16\n",
    "kernel_1_depth = input_image_depth\n",
    "\n",
    "kernel_1 = 0.2 * np.random.random((kernel_1_count , kernel_1_depth, kernel_1_height, kernel_1_width)) - 0.1\n",
    "\n",
    "layer_1_output_size = input_image_height - kernel_1_height + 1\n",
    "\n",
    "layer_2_size = 100\n",
    "\n",
    "weight_layer_1_layer_2 = 0.2 * np.random.random(\n",
    "    (kernel_1_count*layer_1_output_size*layer_1_output_size, layer_2_size)) - 0.1\n",
    "\n",
    "output_size = 10\n",
    "weight_layer_2_output = 0.2 * np.random.random((layer_2_size, output_size)) - 0.1"
   ]
  },
  {
   "cell_type": "code",
   "execution_count": 6,
   "metadata": {},
   "outputs": [],
   "source": [
    "## Activation Function\n",
    "def tanh(x):\n",
    "    return np.tanh(x)\n",
    "\n",
    "def tanh2deriv(output):\n",
    "    return (1 - output**2)\n",
    "\n",
    "def softmax(x):\n",
    "    temp = np.exp(x)\n",
    "    return temp/np.sum(temp, axis=1, keepdims=True)"
   ]
  },
  {
   "cell_type": "code",
   "execution_count": 7,
   "metadata": {},
   "outputs": [],
   "source": [
    "## Forward Convolution\n",
    "## Takes input, kernel and returns output activation map\n",
    "def convolution(input_tensor, kernel):\n",
    "    kernel_height = kernel.shape[2]\n",
    "    kernel_width = kernel.shape[3]\n",
    "    output_tensor_height = input_tensor.shape[1] - kernel_height + 1\n",
    "    output_tensor_width = input_tensor.shape[2] - kernel_width + 1\n",
    "    \n",
    "    output = list()\n",
    "    \n",
    "    for kernel_count_idx in range(kernel.shape[0]):\n",
    "        select_kernel = kernel[kernel_count_idx]\n",
    "        \n",
    "        for row in range(output_tensor_height):\n",
    "            for col in range(output_tensor_width):\n",
    "                sum_kernel_sect = 0\n",
    "                for didx in range(input_tensor.shape[0]):\n",
    "                    sect = input_tensor[didx, row:row+kernel.shape[2], col:col+kernel.shape[3]]\n",
    "            \n",
    "                    sum_kernel_sect += np.sum(sect.dot(select_kernel[didx]))\n",
    "                output.append(sum_kernel_sect)                 \n",
    "\n",
    "    output = np.array(output)\n",
    "    output = tanh(output)\n",
    "    output = output.reshape((kernel.shape[0],output_tensor_height, output_tensor_width))\n",
    "    \n",
    "    \n",
    "    \n",
    "    return output             "
   ]
  },
  {
   "cell_type": "code",
   "execution_count": 8,
   "metadata": {},
   "outputs": [],
   "source": [
    "## Calculates delta for the kernels\n",
    "## Takes deltas, previous layer and kernel in-between and returns deltas for kernel\n",
    "def weight_delta_convolution(input_tensor, delta_kernel_output, kernel):\n",
    "    delta_kernel = np.empty_like(kernel)\n",
    "    \n",
    "    for delta_kernel_output_idx in range(delta_kernel_output.shape[0]):\n",
    "        select_delta_kernel_output = delta_kernel_output[delta_kernel_output_idx]\n",
    "        \n",
    "        for row in range(input_tensor.shape[1] - select_delta_kernel_output.shape[0] + 1):\n",
    "            for col in range(input_tensor.shape[2] - select_delta_kernel_output.shape[1] + 1):\n",
    "                \n",
    "                for input_tensor_idx in range(input_tensor.shape[0]):\n",
    "                    sect = input_tensor[input_tensor_idx, row:row+select_delta_kernel_output.shape[0],\n",
    "                                        col:col+select_delta_kernel_output.shape[1]]\n",
    "                    delta_kernel[delta_kernel_output_idx, input_tensor_idx, row, col] = np.sum(\n",
    "                        sect.dot(select_delta_kernel_output)\n",
    "                    )\n",
    "    return delta_kernel"
   ]
  },
  {
   "cell_type": "code",
   "execution_count": 9,
   "metadata": {},
   "outputs": [
    {
     "name": "stdout",
     "output_type": "stream",
     "text": [
      "Itera: 1 Train Error: 0.899918 Accuracy: 44.0336%\n",
      "Itera: 1 Test Error: 0.627650 Accuracy: 57.1429%\n",
      "Itera: 2 Train Error: 0.613205 Accuracy: 60.0000%\n",
      "Itera: 2 Test Error: 0.549853 Accuracy: 67.6190%\n",
      "Itera: 3 Train Error: 0.540253 Accuracy: 68.4034%\n",
      "Itera: 3 Test Error: 0.509482 Accuracy: 69.5238%\n",
      "Itera: 4 Train Error: 0.498734 Accuracy: 70.7563%\n",
      "Itera: 4 Test Error: 0.485835 Accuracy: 71.4286%\n",
      "Itera: 5 Train Error: 0.471612 Accuracy: 72.2689%\n",
      "Itera: 5 Test Error: 0.472642 Accuracy: 70.4762%\n",
      "Itera: 6 Train Error: 0.451889 Accuracy: 74.1176%\n",
      "Itera: 6 Test Error: 0.464003 Accuracy: 71.4286%\n",
      "Itera: 7 Train Error: 0.435645 Accuracy: 74.7899%\n",
      "Itera: 7 Test Error: 0.454597 Accuracy: 71.4286%\n",
      "Itera: 8 Train Error: 0.421434 Accuracy: 75.9664%\n",
      "Itera: 8 Test Error: 0.444208 Accuracy: 71.4286%\n",
      "Itera: 9 Train Error: 0.408714 Accuracy: 76.4706%\n",
      "Itera: 9 Test Error: 0.433911 Accuracy: 73.3333%\n",
      "Itera: 10 Train Error: 0.396849 Accuracy: 77.3109%\n",
      "Itera: 10 Test Error: 0.423597 Accuracy: 73.3333%\n"
     ]
    }
   ],
   "source": [
    "num_iterations = 10\n",
    "lr = 0.001\n",
    "train_losses = list() ## For plotting train loss \n",
    "test_losses = list()\n",
    "\n",
    "for itera in range(1, num_iterations+1):\n",
    "    \n",
    "    train_error = 0\n",
    "    train_correct = 0\n",
    "    \n",
    "    for img_idx in range(len(training_images)):\n",
    "        \n",
    "        img = training_images[img_idx]\n",
    "        label = training_labels[img_idx].reshape((10, 1))\n",
    "        \n",
    "        layer_0 = img.reshape((input_image_depth, input_image_height, input_image_width))\n",
    "        \n",
    "        layer_1 = convolution(layer_0, kernel_1)\n",
    "        \n",
    "        layer_1_flattened = layer_1.reshape((-1, 1))\n",
    "        \n",
    "        layer_2 = tanh(weight_layer_1_layer_2.T.dot(layer_1_flattened))\n",
    "        \n",
    "        final_output = weight_layer_2_output.T.dot(layer_2)\n",
    "        ##.## Softmax\n",
    "        train_error = train_error + np.sum((final_output - label)**2)\n",
    "        train_correct = train_correct + int(np.argmax(final_output) == np.argmax(label))\n",
    "        \n",
    "        \n",
    "        delta_final_output = final_output - label\n",
    "        delta_layer_2 = weight_layer_2_output.dot(delta_final_output) * tanh2deriv(layer_2)\n",
    "        delta_layer_1_flattened = weight_layer_1_layer_2.dot(delta_layer_2) * tanh2deriv(layer_1_flattened)\n",
    "        \n",
    "        weight_layer_2_output = weight_layer_2_output - lr * layer_2.dot(delta_final_output.T)\n",
    "        weight_layer_1_layer_2 = weight_layer_1_layer_2 - lr * layer_1_flattened.dot(delta_layer_2.T)\n",
    "        \n",
    "#         kernel_1 = kernel_1 - lr * layer_0.dot(delta_layer_1_flattened)\n",
    "        \n",
    "        kernel_1 = kernel_1 - lr * weight_delta_convolution(\n",
    "            layer_0, delta_layer_1_flattened.reshape(layer_1.shape), kernel_1\n",
    "        )\n",
    "        \n",
    "    if itera % 1 == 0:\n",
    "        ###\n",
    "        ### Testing for every n times, n= 1,2,3...\n",
    "        ###\n",
    "        \n",
    "        test_error = 0\n",
    "        test_correct = 0\n",
    "\n",
    "        for img_idx in range(len(testing_images)):\n",
    "\n",
    "            img = testing_images[img_idx]\n",
    "            label = testing_labels[img_idx].reshape((10, 1))\n",
    "\n",
    "            layer_0 = img.reshape((input_image_depth, input_image_height, input_image_width))\n",
    "\n",
    "            layer_1 = convolution(layer_0, kernel_1)\n",
    "\n",
    "            layer_1_flattened = layer_1.reshape((-1, 1))\n",
    "\n",
    "            layer_2 = tanh(weight_layer_1_layer_2.T.dot(layer_1_flattened))\n",
    "\n",
    "            final_output = weight_layer_2_output.T.dot(layer_2)\n",
    "#             final_output = softmax(final_output)\n",
    "            ##.## Softmax\n",
    "            test_error = test_error + np.sum((final_output - label)**2)\n",
    "            test_correct = test_correct + int(np.argmax(final_output) == np.argmax(label))\n",
    "\n",
    "\n",
    "\n",
    "\n",
    "\n",
    "\n",
    "\n",
    "        print(\"Itera: {} Train Error: {:4f} Accuracy: {:.4f}%\".format(itera, \n",
    "                    train_error/len(training_images), (train_correct/len(training_images)) * 100))\n",
    "        print(\"Itera: {} Test Error: {:4f} Accuracy: {:.4f}%\".format(itera, \n",
    "                    test_error/len(testing_images), (test_correct/len(testing_images)) * 100))\n",
    "    \n",
    "    train_losses.append(train_error/len(training_images))\n",
    "    test_losses.append(test_error/len(testing_images))\n",
    "        "
   ]
  },
  {
   "cell_type": "code",
   "execution_count": 10,
   "metadata": {},
   "outputs": [
    {
     "data": {
      "text/plain": [
       "<matplotlib.legend.Legend at 0x7f2b94aeca60>"
      ]
     },
     "execution_count": 10,
     "metadata": {},
     "output_type": "execute_result"
    },
    {
     "data": {
      "image/png": "[encoded data removed]",
      "text/plain": [
       "<Figure size 432x288 with 1 Axes>"
      ]
     },
     "metadata": {
      "needs_background": "light"
     },
     "output_type": "display_data"
    }
   ],
   "source": [
    "plt.plot(train_losses, \"r\", label=\"Train Loss\")\n",
    "plt.plot(test_losses, \"b\", label=\"Test Loss\")\n",
    "plt.legend()"
   ]
  },
  {
   "cell_type": "markdown",
   "metadata": {},
   "source": [
    "Clearly, Our model is not generalized well. We may try with using dropout, larger trainsets, mini-batches to generalize our model well."
   ]
  },
  {
   "cell_type": "code",
   "execution_count": 11,
   "metadata": {},
   "outputs": [],
   "source": [
    "def predict(img_idx):\n",
    "        img = testing_images[img_idx]\n",
    "        label = testing_labels[img_idx].reshape((10, 1))\n",
    "        \n",
    "        layer_0 = img.reshape((input_image_depth, input_image_height, input_image_width))\n",
    "        \n",
    "        layer_1 = convolution(layer_0, kernel_1)\n",
    "        \n",
    "        layer_1_flattened = layer_1.reshape((-1, 1))\n",
    "        \n",
    "        layer_2 = tanh(weight_layer_1_layer_2.T.dot(layer_1_flattened))\n",
    "        \n",
    "        final_output = weight_layer_2_output.T.dot(layer_2)\n",
    "        final_outut = softmax(final_output)\n",
    "        plt.title(\"Actual: {} Predicted: {}\".format(index_to_label_name[np.argmax(label)], index_to_label_name[np.argmax(final_output)]))\n",
    "        plt.imshow(img.reshape((28,28)), cmap=\"gray\")\n",
    "    "
   ]
  },
  {
   "cell_type": "code",
   "execution_count": 12,
   "metadata": {},
   "outputs": [
    {
     "data": {
      "image/png": "[encoded data removed]",
      "text/plain": [
       "<Figure size 432x288 with 1 Axes>"
      ]
     },
     "metadata": {
      "needs_background": "light"
     },
     "output_type": "display_data"
    }
   ],
   "source": [
    "predict(img_idx = 20)"
   ]
  },
  {
   "cell_type": "code",
   "execution_count": 13,
   "metadata": {},
   "outputs": [
    {
     "data": {
      "image/png": "[encoded data removed]",
      "text/plain": [
       "<Figure size 432x288 with 1 Axes>"
      ]
     },
     "metadata": {
      "needs_background": "light"
     },
     "output_type": "display_data"
    }
   ],
   "source": [
    "predict(img_idx = 19)"
   ]
  },
  {
   "cell_type": "code",
   "execution_count": 14,
   "metadata": {},
   "outputs": [
    {
     "data": {
      "image/png": "[encoded data removed]",
      "text/plain": [
       "<Figure size 432x288 with 1 Axes>"
      ]
     },
     "metadata": {
      "needs_background": "light"
     },
     "output_type": "display_data"
    }
   ],
   "source": [
    "predict(img_idx = 98)"
   ]
  },
  {
   "cell_type": "code",
   "execution_count": 15,
   "metadata": {},
   "outputs": [
    {
     "data": {
      "image/png": "[encoded data removed]",
      "text/plain": [
       "<Figure size 432x288 with 1 Axes>"
      ]
     },
     "metadata": {
      "needs_background": "light"
     },
     "output_type": "display_data"
    }
   ],
   "source": [
    "predict(img_idx = 23)"
   ]
  },
  {
   "cell_type": "code",
   "execution_count": 16,
   "metadata": {},
   "outputs": [
    {
     "data": {
      "image/png": "[encoded data removed]",
      "text/plain": [
       "<Figure size 432x288 with 1 Axes>"
      ]
     },
     "metadata": {
      "needs_background": "light"
     },
     "output_type": "display_data"
    }
   ],
   "source": [
    "predict(img_idx = 88)"
   ]
  },
  {
   "cell_type": "code",
   "execution_count": 28,
   "metadata": {},
   "outputs": [
    {
     "data": {
      "image/png": "[encoded data removed]",
      "text/plain": [
       "<Figure size 432x288 with 1 Axes>"
      ]
     },
     "metadata": {
      "needs_background": "light"
     },
     "output_type": "display_data"
    }
   ],
   "source": [
    "predict(img_idx = 27)"
   ]
  },
  {
   "cell_type": "code",
   "execution_count": null,
   "metadata": {},
   "outputs": [],
   "source": []
  }
 ],
 "metadata": {
  "kernelspec": {
   "display_name": "Python 3",
   "language": "python",
   "name": "python3"
  },
  "language_info": {
   "codemirror_mode": {
    "name": "ipython",
    "version": 3
   },
   "file_extension": ".py",
   "mimetype": "text/x-python",
   "name": "python",
   "nbconvert_exporter": "python",
   "pygments_lexer": "ipython3",
   "version": "3.8.2"
  }
 },
 "nbformat": 4,
 "nbformat_minor": 4
}
