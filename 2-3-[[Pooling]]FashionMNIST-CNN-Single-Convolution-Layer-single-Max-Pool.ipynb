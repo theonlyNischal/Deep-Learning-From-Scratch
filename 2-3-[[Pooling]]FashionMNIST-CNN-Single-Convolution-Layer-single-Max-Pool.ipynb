{
 "cells": [
  {
   "cell_type": "markdown",
   "metadata": {},
   "source": [
    "[[Uncomplte]]\n",
    "\n",
    "In this notebook we are going to use a simple Convolution neural net to classify a [FashionMNIST Dataset](https://www.kaggle.com/zalando-research/fashionmnist).\n",
    "\n",
    "\n",
    "Using a max-pooling layer will help us to reduce the size of output activation map. Using a max pooling means we will use a filter or kernel of size 2x2 or 3x3... on every subimages of same size. If we have a 2x2 filter and 2x2 sub-image then there will be single output value for that sub-image which will be the maximum value of sub-image image. i.e if sub-image is [[2,3],[4,5]] the output pixel would be 5. The mechanism of convolution and max-pooling are very similar But unlike convolution there will be no value in the filter instead the output are determined by using some calculation like maximum() or average() in max-pooling\n",
    "\n",
    "\n",
    "\n",
    "For more details on backpropagating while Max Pool:\n",
    "\n",
    "[https://datascience.stackexchange.com/questions/11699/backprop-through-max-pooling-layers](https://datascience.stackexchange.com/questions/11699/backprop-through-max-pooling-layers)\n",
    "\n",
    "For more details on CNN:\n",
    "\n",
    "\n",
    "[Convolutions and Backpropagations - Pavithra Solai](https://medium.com/@pavisj/convolutions-and-backpropagations-46026a8f5d2c)\n",
    "\n",
    "[Why do we rotate weights when computing the gradients in a convolution layer of a convolution network?](http://soumith.ch/ex/pages/2014/08/07/why-rotate-weights-convolution-gradient/)\n",
    "\n",
    "[A guide to convolution arithmetic for deep learning](https://arxiv.org/abs/1603.07285)\n",
    "\n",
    "[https://medium.com/@ageitgey/machine-learning-is-fun-part-3-deep-learning-and-convolutional-neural-networks-f40359318721](https://medium.com/@ageitgey/machine-learning-is-fun-part-3-deep-learning-and-convolutional-neural-networks-f40359318721)"
   ]
  },
  {
   "cell_type": "code",
   "execution_count": 123,
   "metadata": {},
   "outputs": [],
   "source": [
    "## Import necessary Packages\n",
    "\n",
    "import numpy as np\n",
    "import pandas as pd\n",
    "import matplotlib.pyplot as plt\n",
    "np.random.seed(1)"
   ]
  },
  {
   "cell_type": "code",
   "execution_count": 124,
   "metadata": {},
   "outputs": [
    {
     "name": "stdout",
     "output_type": "stream",
     "text": [
      "320\n",
      "80\n"
     ]
    }
   ],
   "source": [
    "## Read FashionMNIST Dataset\n",
    "dataframe = pd.read_csv(\"fashion-mnist_train.csv\")\n",
    "\n",
    "## Just using 700 images\n",
    "data = dataframe.values[:400]\n",
    "\n",
    "## Split labels and images\n",
    "labels = data[:, 0]\n",
    "images = data[:, 1:]\n",
    "\n",
    "## Normalize the image\n",
    "images = images/255\n",
    "\n",
    "## Splitting Training and Testing Set\n",
    "train_test_split = 0.80\n",
    "train_test_split_index = int(len(images) * train_test_split)\n",
    "training_images = images[:train_test_split_index ]\n",
    "testing_images = images[train_test_split_index: ]\n",
    "\n",
    "## One-hot encoding the labels\n",
    "\n",
    "one_hot_labels = []\n",
    "for label in labels:\n",
    "    base_label = np.zeros(10)\n",
    "    base_label[int(label)] = 1\n",
    "    one_hot_labels.append(base_label)\n",
    "\n",
    "labels = np.array(one_hot_labels)\n",
    "training_labels = labels[:train_test_split_index]\n",
    "testing_labels = labels[train_test_split_index: ]\n",
    "\n",
    "assert(len(training_images) == len(training_labels))\n",
    "assert(len(testing_images) == len(testing_labels))\n",
    "\n",
    "print(len(training_images))\n",
    "print(len(testing_images))"
   ]
  },
  {
   "cell_type": "code",
   "execution_count": 125,
   "metadata": {},
   "outputs": [],
   "source": [
    "## Labels name\n",
    "index_to_label_name = {\n",
    "    0: \"t-shirt\", 1: \"trousers\", 2: \"pullover\", 3: \"dress\", 4: \"coat\", 5: \"sandal\", 6: \"shirt\", 7: \"sneaker\",\n",
    "    8: \"bag\", 9: \"ankle boot\"\n",
    "}"
   ]
  },
  {
   "cell_type": "code",
   "execution_count": 126,
   "metadata": {},
   "outputs": [
    {
     "data": {
      "text/plain": [
       "<matplotlib.image.AxesImage at 0x7f92a1e11880>"
      ]
     },
     "execution_count": 126,
     "metadata": {},
     "output_type": "execute_result"
    },
    {
     "data": {
      "image/png": "[encoded data removed]",
      "text/plain": [
       "<Figure size 432x288 with 1 Axes>"
      ]
     },
     "metadata": {
      "needs_background": "light"
     },
     "output_type": "display_data"
    }
   ],
   "source": [
    "## Sample Training Image with label\n",
    "\n",
    "img = training_images[7].reshape((28,28))\n",
    "label = index_to_label_name[np.argmax(training_labels[7])]\n",
    "plt.title(label)\n",
    "plt.imshow(img, cmap=\"gray\")"
   ]
  },
  {
   "cell_type": "code",
   "execution_count": 127,
   "metadata": {},
   "outputs": [],
   "source": [
    "## Initialize weights\n",
    "\n",
    "input_image_height = input_image_width = 28\n",
    "input_image_depth = 1\n",
    "\n",
    "kernel_1_width = kernel_1_height = 3\n",
    "kernel_1_count = 16\n",
    "kernel_1_depth = input_image_depth\n",
    "\n",
    "kernel_1 = 0.2 * np.random.random((kernel_1_count , kernel_1_depth, kernel_1_height, kernel_1_width)) - 0.1\n",
    "\n",
    "layer_1_output_size = input_image_height - kernel_1_height + 1\n",
    "\n",
    "\n",
    "\n",
    "max_pool_size = 2\n",
    "stride=2\n",
    "layer_2_output_size = ((layer_1_output_size - max_pool_size)//stride) + 1\n",
    "layer_3_size = 100\n",
    "\n",
    "weight_layer_2_layer_3 = 0.2 * np.random.random(\n",
    "    (kernel_1_count*layer_2_output_size*layer_2_output_size, layer_3_size)) - 0.1\n",
    "\n",
    "output_size = 10\n",
    "weight_layer_3_output = 0.2 * np.random.random((layer_3_size, output_size)) - 0.1"
   ]
  },
  {
   "cell_type": "code",
   "execution_count": 128,
   "metadata": {},
   "outputs": [],
   "source": [
    "## Activation Function\n",
    "def tanh(x):\n",
    "    return np.tanh(x)\n",
    "\n",
    "def tanh2deriv(output):\n",
    "    return (1 - output**2)\n",
    "\n",
    "def softmax(x):\n",
    "    temp = np.exp(x)\n",
    "    return temp/np.sum(temp, axis=1, keepdims=True)"
   ]
  },
  {
   "cell_type": "code",
   "execution_count": 129,
   "metadata": {},
   "outputs": [],
   "source": [
    "## Forward Convolution\n",
    "## Takes input, kernel and returns output activation map\n",
    "def convolution(input_tensor, kernel):\n",
    "    kernel_height = kernel.shape[2]\n",
    "    kernel_width = kernel.shape[3]\n",
    "    output_tensor_height = input_tensor.shape[1] - kernel_height + 1\n",
    "    output_tensor_width = input_tensor.shape[2] - kernel_width + 1\n",
    "    \n",
    "    output = list()\n",
    "    \n",
    "    for kernel_count_idx in range(kernel.shape[0]):\n",
    "        select_kernel = kernel[kernel_count_idx]\n",
    "        \n",
    "        for row in range(output_tensor_height):\n",
    "            for col in range(output_tensor_width):\n",
    "                sum_kernel_sect = 0\n",
    "                for didx in range(input_tensor.shape[0]):\n",
    "                    sect = input_tensor[didx, row:row+kernel.shape[2], col:col+kernel.shape[3]]\n",
    "            \n",
    "                    sum_kernel_sect += np.sum(sect.dot(select_kernel[didx]))\n",
    "                output.append(sum_kernel_sect)                 \n",
    "\n",
    "    output = np.array(output)\n",
    "    output = tanh(output)\n",
    "    output = output.reshape((kernel.shape[0],output_tensor_height, output_tensor_width))\n",
    "    \n",
    "    \n",
    "    \n",
    "    return output             "
   ]
  },
  {
   "cell_type": "code",
   "execution_count": 130,
   "metadata": {},
   "outputs": [],
   "source": [
    "## Calculates delta for the kernels\n",
    "## Takes deltas, previous layer and kernel in-between and returns deltas for kernel\n",
    "def weight_delta_convolution(input_tensor, delta_kernel_output, kernel):\n",
    "    delta_kernel = np.empty_like(kernel)\n",
    "    \n",
    "    for delta_kernel_output_idx in range(delta_kernel_output.shape[0]):\n",
    "        select_delta_kernel_output = delta_kernel_output[delta_kernel_output_idx]\n",
    "        \n",
    "        for row in range(input_tensor.shape[1] - select_delta_kernel_output.shape[0] + 1):\n",
    "            for col in range(input_tensor.shape[2] - select_delta_kernel_output.shape[1] + 1):\n",
    "                \n",
    "                for input_tensor_idx in range(input_tensor.shape[0]):\n",
    "                    sect = input_tensor[input_tensor_idx, row:row+select_delta_kernel_output.shape[0],\n",
    "                                        col:col+select_delta_kernel_output.shape[1]]\n",
    "                    delta_kernel[delta_kernel_output_idx, input_tensor_idx, row, col] = np.sum(\n",
    "                        sect.dot(select_delta_kernel_output)\n",
    "                    )\n",
    "    return delta_kernel"
   ]
  },
  {
   "cell_type": "code",
   "execution_count": 131,
   "metadata": {},
   "outputs": [],
   "source": [
    "def maxPool(input_tensor, max_pool_filter_size):\n",
    "    output_tensor_height =  (input_tensor.shape[1] - max_pool_filter_size)//max_pool_filter_size + 1\n",
    "    output_tensor_width = (input_tensor.shape[2] - max_pool_filter_size)//max_pool_filter_size + 1\n",
    "    activation_map_depth = input_tensor.shape[0]\n",
    "    \n",
    "    output = np.zeros((activation_map_depth, output_tensor_height, output_tensor_width))\n",
    "    \n",
    "    input_tensor_1_0 = np.zeros_like(input_tensor)\n",
    "        \n",
    "    \n",
    "    for map_idx in range(activation_map_depth):\n",
    "        output_row = 0\n",
    "        \n",
    "        for row in range(0, input_tensor.shape[1] - max_pool_filter_size+1, 2):\n",
    "            output_col = 0\n",
    "\n",
    "            for col in range(0, input_tensor.shape[2] - max_pool_filter_size+1, 2):\n",
    "                sect = input_tensor[map_idx, row:row+max_pool_filter_size, col:col+max_pool_filter_size]\n",
    "                max_value = np.max(sect)\n",
    "                \n",
    "                output[map_idx, output_row, output_col] = max_value\n",
    "                output_col = output_col + 1\n",
    "                \n",
    "                max_value_idx = np.unravel_index(sect.argmax(), sect.shape)\n",
    "                \n",
    "                input_tensor_1_0[map_idx, row+max_value_idx[0], col+max_value_idx[1]] = 1\n",
    "\n",
    "                \n",
    "                \n",
    "            output_row = output_row + 1\n",
    "                \n",
    "    return output, input_tensor_1_0                \n",
    "                "
   ]
  },
  {
   "cell_type": "code",
   "execution_count": 132,
   "metadata": {},
   "outputs": [],
   "source": [
    "def maxPoolDelta(input_tensor_1_0, output_delta, max_pool_filter_size):\n",
    "    input_delta = np.zeros_like(input_tensor_1_0)\n",
    "    for map_idx in range(input_tensor_1_0.shape[0]):\n",
    "        row_for_output_delta = 0\n",
    "        for row in range(0, input_tensor_1_0.shape[1] - max_pool_filter_size+1, 2):\n",
    "            col_for_output_delta = 0\n",
    "            for col in range(0, input_tensor_1_0.shape[2] - max_pool_filter_size+1, 2):\n",
    "                sect = input_tensor_1_0[map_idx, row:row+max_pool_filter_size, col:col+max_pool_filter_size]\n",
    "                output_delta_sect = output_delta[map_idx, row_for_output_delta, col_for_output_delta]\n",
    "                \n",
    "                input_delta[map_idx, row:row+max_pool_filter_size, col:col+max_pool_filter_size] = sect * output_delta_sect\n",
    "                \n",
    "                col_for_output_delta += 1\n",
    "            row_for_output_delta += 1\n",
    "    return input_delta\n",
    "            "
   ]
  },
  {
   "cell_type": "code",
   "execution_count": 133,
   "metadata": {},
   "outputs": [
    {
     "name": "stdout",
     "output_type": "stream",
     "text": [
      "Itera: 1 Train Error: 0.979692 Accuracy: 28.1250%\n",
      "Itera: 1 Test Error: 0.794165 Accuracy: 33.7500%\n",
      "Itera: 2 Train Error: 0.753179 Accuracy: 47.5000%\n",
      "Itera: 2 Test Error: 0.678653 Accuracy: 60.0000%\n",
      "Itera: 3 Train Error: 0.652955 Accuracy: 57.5000%\n",
      "Itera: 3 Test Error: 0.623050 Accuracy: 66.2500%\n",
      "Itera: 4 Train Error: 0.598397 Accuracy: 65.9375%\n",
      "Itera: 4 Test Error: 0.588762 Accuracy: 70.0000%\n",
      "Itera: 5 Train Error: 0.563096 Accuracy: 68.7500%\n",
      "Itera: 5 Test Error: 0.561607 Accuracy: 71.2500%\n",
      "Itera: 6 Train Error: 0.536683 Accuracy: 70.3125%\n",
      "Itera: 6 Test Error: 0.540399 Accuracy: 72.5000%\n",
      "Itera: 7 Train Error: 0.515380 Accuracy: 71.8750%\n",
      "Itera: 7 Test Error: 0.523792 Accuracy: 72.5000%\n",
      "Itera: 8 Train Error: 0.497221 Accuracy: 73.4375%\n",
      "Itera: 8 Test Error: 0.510405 Accuracy: 72.5000%\n",
      "Itera: 9 Train Error: 0.481910 Accuracy: 74.0625%\n",
      "Itera: 9 Test Error: 0.498940 Accuracy: 75.0000%\n",
      "Itera: 10 Train Error: 0.468079 Accuracy: 75.9375%\n",
      "Itera: 10 Test Error: 0.489740 Accuracy: 73.7500%\n",
      "Itera: 11 Train Error: 0.456055 Accuracy: 75.9375%\n",
      "Itera: 11 Test Error: 0.481857 Accuracy: 73.7500%\n",
      "Itera: 12 Train Error: 0.445416 Accuracy: 77.5000%\n",
      "Itera: 12 Test Error: 0.475234 Accuracy: 75.0000%\n",
      "Itera: 13 Train Error: 0.435692 Accuracy: 78.1250%\n",
      "Itera: 13 Test Error: 0.468854 Accuracy: 73.7500%\n",
      "Itera: 14 Train Error: 0.426767 Accuracy: 78.1250%\n",
      "Itera: 14 Test Error: 0.463379 Accuracy: 75.0000%\n",
      "Itera: 15 Train Error: 0.418586 Accuracy: 78.7500%\n",
      "Itera: 15 Test Error: 0.458343 Accuracy: 75.0000%\n",
      "Itera: 16 Train Error: 0.410995 Accuracy: 79.3750%\n",
      "Itera: 16 Test Error: 0.454178 Accuracy: 73.7500%\n",
      "Itera: 17 Train Error: 0.404096 Accuracy: 79.6875%\n",
      "Itera: 17 Test Error: 0.450208 Accuracy: 73.7500%\n",
      "Itera: 18 Train Error: 0.397884 Accuracy: 80.0000%\n",
      "Itera: 18 Test Error: 0.446733 Accuracy: 73.7500%\n",
      "Itera: 19 Train Error: 0.391935 Accuracy: 80.0000%\n",
      "Itera: 19 Test Error: 0.443481 Accuracy: 72.5000%\n",
      "Itera: 20 Train Error: 0.386310 Accuracy: 79.6875%\n",
      "Itera: 20 Test Error: 0.440607 Accuracy: 72.5000%\n"
     ]
    }
   ],
   "source": [
    "num_iterations = 20\n",
    "lr = 0.001\n",
    "train_losses = list() ## For plotting train loss \n",
    "test_losses = list()\n",
    "\n",
    "for itera in range(1, num_iterations+1):\n",
    "    \n",
    "    train_error = 0\n",
    "    train_correct = 0\n",
    "    \n",
    "    for img_idx in range(len(training_images)):\n",
    "        \n",
    "        img = training_images[img_idx]\n",
    "        label = training_labels[img_idx].reshape((10, 1))\n",
    "        \n",
    "        layer_0 = img.reshape((input_image_depth, input_image_height, input_image_width))\n",
    "        \n",
    "        layer_1 = convolution(layer_0, kernel_1)\n",
    "        layer_2, layer_2_1_0 = maxPool(layer_1, max_pool_size)\n",
    "        layer_2 = tanh(layer_2)\n",
    "            \n",
    "        layer_2_flattened = layer_2.reshape((-1, 1))\n",
    "        \n",
    "        layer_3 = tanh(weight_layer_2_layer_3.T.dot(layer_2_flattened))\n",
    "        \n",
    "#         layer_1_flattened = layer_1.reshape((-1, 1))\n",
    "        \n",
    "#         layer_2 = tanh(weight_layer_1_layer_2.T.dot(layer_1_flattened))\n",
    "        \n",
    "        final_output = weight_layer_3_output.T.dot(layer_3)\n",
    "        ##.## Softmax\n",
    "        train_error = train_error + np.sum((final_output - label)**2)\n",
    "        train_correct = train_correct + int(np.argmax(final_output) == np.argmax(label))\n",
    "        \n",
    "        \n",
    "        delta_final_output = final_output - label\n",
    "        delta_layer_3 = weight_layer_3_output.dot(delta_final_output) * tanh2deriv(layer_3)\n",
    "        delta_layer_2_flattened = weight_layer_2_layer_3.dot(delta_layer_3) * tanh2deriv(layer_2_flattened)\n",
    "        delta_layer_2 = delta_layer_2_flattened.reshape(layer_2.shape)\n",
    "        ##\n",
    "        delta_layer_1 = maxPoolDelta(layer_2_1_0, delta_layer_2, 2)\n",
    "        \n",
    "        weight_layer_3_output = weight_layer_3_output - lr * layer_3.dot(delta_final_output.T)\n",
    "        weight_layer_2_layer_3 = weight_layer_2_layer_3 - lr * layer_2_flattened.dot(delta_layer_3.T)\n",
    "        \n",
    "        kernel_1 = kernel_1 - lr * weight_delta_convolution(\n",
    "            layer_0, delta_layer_1, kernel_1\n",
    "        \n",
    "        )\n",
    "        \n",
    "#         weight_layer_2_output = weight_layer_2_output - lr * layer_2.dot(delta_final_output.T)\n",
    "#         weight_layer_1_layer_2 = weight_layer_1_layer_2 - lr * layer_1_flattened.dot(delta_layer_2.T)\n",
    "        \n",
    "# #         kernel_1 = kernel_1 - lr * layer_0.dot(delta_layer_1_flattened)\n",
    "        \n",
    "#         kernel_1 = kernel_1 - lr * weight_delta_convolution(\n",
    "#             layer_0, delta_layer_1_flattened.reshape(layer_1.shape), kernel_1\n",
    "#         )\n",
    "        \n",
    "    if itera % 1 == 0:\n",
    "        ###\n",
    "        ### Testing for every n times, n= 1,2,3...\n",
    "        ###\n",
    "        \n",
    "        test_error = 0\n",
    "        test_correct = 0\n",
    "\n",
    "        for img_idx in range(len(testing_images)):\n",
    "\n",
    "            img = testing_images[img_idx]\n",
    "            label = testing_labels[img_idx].reshape((10, 1))\n",
    "\n",
    "            layer_0 = img.reshape((input_image_depth, input_image_height, input_image_width))\n",
    "\n",
    "            layer_1 = convolution(layer_0, kernel_1)\n",
    "            layer_2, layer_2_1_0 = maxPool(layer_1, max_pool_size)\n",
    "            layer_2 = tanh(layer_2)\n",
    "\n",
    "            layer_2_flattened = layer_2.reshape((-1, 1))\n",
    "\n",
    "            layer_3 = tanh(weight_layer_2_layer_3.T.dot(layer_2_flattened))\n",
    "\n",
    "\n",
    "            final_output = weight_layer_3_output.T.dot(layer_3)\n",
    "\n",
    "            test_error = test_error + np.sum((final_output - label)**2)\n",
    "            test_correct = test_correct + int(np.argmax(final_output) == np.argmax(label))\n",
    "\n",
    "\n",
    "\n",
    "\n",
    "\n",
    "\n",
    "\n",
    "        print(\"Itera: {} Train Error: {:4f} Accuracy: {:.4f}%\".format(itera, \n",
    "                    train_error/len(training_images), (train_correct/len(training_images)) * 100))\n",
    "        print(\"Itera: {} Test Error: {:4f} Accuracy: {:.4f}%\".format(itera, \n",
    "                    test_error/len(testing_images), (test_correct/len(testing_images)) * 100))\n",
    "    \n",
    "    train_losses.append(train_error/len(training_images))\n",
    "    test_losses.append(test_error/len(testing_images))\n",
    "        "
   ]
  },
  {
   "cell_type": "code",
   "execution_count": 134,
   "metadata": {},
   "outputs": [
    {
     "data": {
      "text/plain": [
       "<matplotlib.legend.Legend at 0x7f928ad17f70>"
      ]
     },
     "execution_count": 134,
     "metadata": {},
     "output_type": "execute_result"
    },
    {
     "data": {
      "image/png": "[encoded data removed]",
      "text/plain": [
       "<Figure size 432x288 with 1 Axes>"
      ]
     },
     "metadata": {
      "needs_background": "light"
     },
     "output_type": "display_data"
    }
   ],
   "source": [
    "plt.plot(train_losses, \"r\", label=\"Train Loss\")\n",
    "plt.plot(test_losses, \"b\", label=\"Test Loss\")\n",
    "plt.legend()"
   ]
  },
  {
   "cell_type": "markdown",
   "metadata": {},
   "source": [
    "Clearly, Our model is not generalized well. We may try with using dropout, larger trainsets, mini-batches to generalize our model well."
   ]
  },
  {
   "cell_type": "code",
   "execution_count": 137,
   "metadata": {},
   "outputs": [],
   "source": [
    "def predict(img_idx):\n",
    "        img = testing_images[img_idx]\n",
    "        label = testing_labels[img_idx].reshape((10, 1))\n",
    "\n",
    "        layer_0 = img.reshape((input_image_depth, input_image_height, input_image_width))\n",
    "\n",
    "        layer_1 = convolution(layer_0, kernel_1)\n",
    "        layer_2, layer_2_1_0 = maxPool(layer_1, max_pool_size)\n",
    "        layer_2 = tanh(layer_2)\n",
    "\n",
    "        layer_2_flattened = layer_2.reshape((-1, 1))\n",
    "\n",
    "        layer_3 = tanh(weight_layer_2_layer_3.T.dot(layer_2_flattened))\n",
    "\n",
    "\n",
    "        final_output = weight_layer_3_output.T.dot(layer_3)\n",
    "        plt.title(\"Actual: {} Predicted: {}\".format(index_to_label_name[np.argmax(label)], index_to_label_name[np.argmax(final_output)]))\n",
    "        plt.imshow(img.reshape((28,28)), cmap=\"gray\")\n",
    "    "
   ]
  },
  {
   "cell_type": "code",
   "execution_count": 138,
   "metadata": {},
   "outputs": [
    {
     "data": {
      "image/png": "[encoded data removed]",
      "text/plain": [
       "<Figure size 432x288 with 1 Axes>"
      ]
     },
     "metadata": {
      "needs_background": "light"
     },
     "output_type": "display_data"
    }
   ],
   "source": [
    "predict(img_idx = 30)"
   ]
  },
  {
   "cell_type": "code",
   "execution_count": 140,
   "metadata": {},
   "outputs": [
    {
     "data": {
      "image/png": "[encoded data removed]",
      "text/plain": [
       "<Figure size 432x288 with 1 Axes>"
      ]
     },
     "metadata": {
      "needs_background": "light"
     },
     "output_type": "display_data"
    }
   ],
   "source": [
    "predict(img_idx = 19)"
   ]
  },
  {
   "cell_type": "code",
   "execution_count": 142,
   "metadata": {},
   "outputs": [
    {
     "data": {
      "image/png": "[encoded data removed]",
      "text/plain": [
       "<Figure size 432x288 with 1 Axes>"
      ]
     },
     "metadata": {
      "needs_background": "light"
     },
     "output_type": "display_data"
    }
   ],
   "source": [
    "predict(img_idx = 76)"
   ]
  },
  {
   "cell_type": "code",
   "execution_count": 143,
   "metadata": {},
   "outputs": [
    {
     "data": {
      "image/png": "[encoded data removed]",
      "text/plain": [
       "<Figure size 432x288 with 1 Axes>"
      ]
     },
     "metadata": {
      "needs_background": "light"
     },
     "output_type": "display_data"
    }
   ],
   "source": [
    "predict(img_idx = 43)"
   ]
  },
  {
   "cell_type": "code",
   "execution_count": 144,
   "metadata": {},
   "outputs": [
    {
     "data": {
      "image/png": "[encoded data removed]",
      "text/plain": [
       "<Figure size 432x288 with 1 Axes>"
      ]
     },
     "metadata": {
      "needs_background": "light"
     },
     "output_type": "display_data"
    }
   ],
   "source": [
    "predict(img_idx = 72)"
   ]
  },
  {
   "cell_type": "code",
   "execution_count": null,
   "metadata": {},
   "outputs": [],
   "source": []
  }
 ],
 "metadata": {
  "kernelspec": {
   "display_name": "Python 3",
   "language": "python",
   "name": "python3"
  },
  "language_info": {
   "codemirror_mode": {
    "name": "ipython",
    "version": 3
   },
   "file_extension": ".py",
   "mimetype": "text/x-python",
   "name": "python",
   "nbconvert_exporter": "python",
   "pygments_lexer": "ipython3",
   "version": "3.8.2"
  }
 },
 "nbformat": 4,
 "nbformat_minor": 4
}
