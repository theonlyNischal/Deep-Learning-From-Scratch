{
 "cells": [
  {
   "cell_type": "markdown",
   "metadata": {},
   "source": [
    "In this notebook, we will use the concepts of MLP and Backpropagation to build a model capable of classifying the sentiments of a review as either positive(1) or negative(0). The datastes we are going to use are provided in Udacity Notebooks and the solution is totally based on the approach by [Andrew Trask](https://github.com/udacity/deep-learning-v2-pytorch/blob/master/sentiment-analysis-network/Sentiment_Classification_Solutions.ipynb)"
   ]
  },
  {
   "cell_type": "markdown",
   "metadata": {},
   "source": [
    "The very first thing we would like to do is evaluate our dataset. For that let's import some useful packages."
   ]
  },
  {
   "cell_type": "code",
   "execution_count": 135,
   "metadata": {},
   "outputs": [],
   "source": [
    "import numpy as np\n",
    "import pandas as pd\n",
    "import matplotlib.pyplot as plt\n",
    "\n",
    "np.random.seed(0) # Setting seed to get same random number pattern every time."
   ]
  },
  {
   "cell_type": "markdown",
   "metadata": {},
   "source": [
    "#### Preprocessing Steps\n",
    "When we look at the labels and its corresponding label, we see that the last character of the label is newline (\\n) which\n",
    "is not the part of the review per se, so will ignore newline character from both reviews and labels. Also we will change every character to uppercase so Bad, BAD, bad all be BAD"
   ]
  },
  {
   "cell_type": "code",
   "execution_count": 136,
   "metadata": {},
   "outputs": [],
   "source": [
    "with open(\"reviews.txt\", \"r\") as reviews_dataset:\n",
    "    reviews = reviews_dataset.readlines()\n",
    "    \n",
    "with open(\"labels.txt\", \"r\") as labels_dataset:\n",
    "    labels = labels_dataset.readlines()"
   ]
  },
  {
   "cell_type": "code",
   "execution_count": 137,
   "metadata": {},
   "outputs": [
    {
     "data": {
      "text/plain": [
       "'bromwell high is a cartoon comedy . it ran at the same time as some other programs about school life  such as  teachers  . my   years in the teaching profession lead me to believe that bromwell high  s satire is much closer to reality than is  teachers  . the scramble to survive financially  the insightful students who can see right through their pathetic teachers  pomp  the pettiness of the whole situation  all remind me of the schools i knew and their students . when i saw the episode in which a student repeatedly tried to burn down the school  i immediately recalled . . . . . . . . . at . . . . . . . . . . high . a classic line inspector i  m here to sack one of your teachers . student welcome to bromwell high . i expect that many adults of my age think that bromwell high is far fetched . what a pity that it isn  t   \\n'"
      ]
     },
     "execution_count": 137,
     "metadata": {},
     "output_type": "execute_result"
    }
   ],
   "source": [
    "reviews[0]"
   ]
  },
  {
   "cell_type": "code",
   "execution_count": 138,
   "metadata": {},
   "outputs": [
    {
     "data": {
      "text/plain": [
       "'positive\\n'"
      ]
     },
     "execution_count": 138,
     "metadata": {},
     "output_type": "execute_result"
    }
   ],
   "source": [
    "labels[0]"
   ]
  },
  {
   "cell_type": "code",
   "execution_count": 139,
   "metadata": {},
   "outputs": [],
   "source": [
    "## While reading reviews and labels, we only take characters from 1st to second last position.\n",
    "## i.e we ignore the last term.\n",
    "\n",
    "with open(\"reviews.txt\", \"r\") as reviews_dataset:\n",
    "    reviews = list(map(lambda x:x[:-1].upper(), reviews_dataset.readlines()))\n",
    "\n",
    "with open(\"labels.txt\", \"r\") as labels_dataset:\n",
    "    labels = list(map(lambda x:x[:-1].upper(), labels_dataset.readlines()))\n",
    "    \n",
    "    \n",
    "assert(len(reviews) == len(labels))\n"
   ]
  },
  {
   "cell_type": "code",
   "execution_count": 140,
   "metadata": {},
   "outputs": [
    {
     "data": {
      "text/plain": [
       "'BROMWELL HIGH IS A CARTOON COMEDY . IT RAN AT THE SAME TIME AS SOME OTHER PROGRAMS ABOUT SCHOOL LIFE  SUCH AS  TEACHERS  . MY   YEARS IN THE TEACHING PROFESSION LEAD ME TO BELIEVE THAT BROMWELL HIGH  S SATIRE IS MUCH CLOSER TO REALITY THAN IS  TEACHERS  . THE SCRAMBLE TO SURVIVE FINANCIALLY  THE INSIGHTFUL STUDENTS WHO CAN SEE RIGHT THROUGH THEIR PATHETIC TEACHERS  POMP  THE PETTINESS OF THE WHOLE SITUATION  ALL REMIND ME OF THE SCHOOLS I KNEW AND THEIR STUDENTS . WHEN I SAW THE EPISODE IN WHICH A STUDENT REPEATEDLY TRIED TO BURN DOWN THE SCHOOL  I IMMEDIATELY RECALLED . . . . . . . . . AT . . . . . . . . . . HIGH . A CLASSIC LINE INSPECTOR I  M HERE TO SACK ONE OF YOUR TEACHERS . STUDENT WELCOME TO BROMWELL HIGH . I EXPECT THAT MANY ADULTS OF MY AGE THINK THAT BROMWELL HIGH IS FAR FETCHED . WHAT A PITY THAT IT ISN  T   '"
      ]
     },
     "execution_count": 140,
     "metadata": {},
     "output_type": "execute_result"
    }
   ],
   "source": [
    "reviews[0]"
   ]
  },
  {
   "cell_type": "code",
   "execution_count": 141,
   "metadata": {},
   "outputs": [
    {
     "data": {
      "text/plain": [
       "'POSITIVE'"
      ]
     },
     "execution_count": 141,
     "metadata": {},
     "output_type": "execute_result"
    }
   ],
   "source": [
    "labels[0]"
   ]
  },
  {
   "cell_type": "markdown",
   "metadata": {},
   "source": [
    "### Changing data to numbers\n",
    "A neural network only deals with numbers. No matter if we want to work on image, video, texts, speech the input data and label must be changed into numbers.\n",
    "\n",
    "#### For reviews\n",
    "\n",
    "\"THIS MOVIE ROCKS\" should be changed into somethng like 118, 1338, 383 or something efficient than that. \n",
    "\n",
    "One way to do is\n",
    "one-hot encode the reviews. That is, we create a vocabulary of the words of the reveiws and arrange them in some pattern. When a review arrives we put a **1** only in the place where the reviews and vocabulary matches and **0** everywhere else. The problem with this is, we will end up with very large input sequence, say we have a vocabulary of 2 million words, then we need a input layer with 2 million neurons which will be very resource hungry. Plus, most of the inputs will be 0s so it will not be efficient.\n",
    "\n",
    "Another approach which is also less eficient but will work satisfactory for experimental purposes is First we will create a vocabulary of all the words in the review, and assign them some numbers. i.e every words will get some distinct number. The problem with this approach is the confusion in the size of the input layer. There is not aggrement on the size of the reviews. Some reviews are short while some may be very long. To solve this, we can use a fixed size input layer and truncate reveiw character outside of our fixed size input. But this will result in the loss of information. Another problem with this approach is the difference in value of the words. If we choose this method, a word say \"back\" will have a value of 2, while a word \"every\" may have a value of 245393. Since neural network is all about numbers. There is no valid reason to have such a difference in the value of the word \"back\" and \"every\". A neural network will have to do computation and such a invalid difference in the representation of the dataset will cost us badly.\n",
    "\n",
    "The approach of using a fixed input size is quite odd. So, If we could manage to remove the unnecessary computation with **0s** in the first approach it could be a way better choice than other. We will  encode the review words with respect to the lenght of vocabulary. Then will just select the corresponding weights from weight matrix and sum them up. Doing this is similary to doing a very long vector-matrix multiplication."
   ]
  },
  {
   "cell_type": "code",
   "execution_count": 142,
   "metadata": {},
   "outputs": [
    {
     "name": "stdout",
     "output_type": "stream",
     "text": [
      "[2.61084403 2.14088992 2.01623124]\n"
     ]
    }
   ],
   "source": [
    "## A naive approach\n",
    "np.random.seed(0)\n",
    "input_review = np.array([0, 0, 0, 1, 0, 0, 0, 0, 0, 1, 0, 0, 1, 0, 0, 1, 0, 0])\n",
    "hidden_size = 3\n",
    "\n",
    "weights = np.random.random((len(input_review), hidden_size))\n",
    "output = weights.T.dot(input_review)\n",
    "print(output)"
   ]
  },
  {
   "cell_type": "code",
   "execution_count": 143,
   "metadata": {},
   "outputs": [
    {
     "name": "stdout",
     "output_type": "stream",
     "text": [
      "[2.61084403 2.14088992 2.01623124]\n"
     ]
    }
   ],
   "source": [
    "## A better approach\n",
    "np.random.seed(0)\n",
    "input_review = np.array([0, 0, 0, 1, 0, 0, 0, 0, 0, 1, 0, 0, 1, 0, 0, 1, 0, 0])\n",
    "\n",
    "input_words_index = np.array([3, 9, 12, 15])\n",
    "hidden_size = 3\n",
    "\n",
    "weights = np.random.random((18, hidden_size))\n",
    "\n",
    "output = np.sum(weights[input_words_index], axis=0)\n",
    "print(output)\n",
    "\n"
   ]
  },
  {
   "cell_type": "markdown",
   "metadata": {},
   "source": [
    "As we can see the output of both approach is same. The second one is better because we don't have to deal with unnecessary multiplication of **0s** we just select the corresponding row where the input is present and sum them up. Doing this is mathematically equivalent of doing a vector-matrix multiplication.\n",
    "\n",
    "### For Labels\n",
    "For label we will change \"positive\" to 1 and negative to 0.\n",
    "\n",
    "Now Let's encode our dataset."
   ]
  },
  {
   "cell_type": "code",
   "execution_count": 144,
   "metadata": {},
   "outputs": [],
   "source": [
    "tokens = list(map(lambda x:set(x.split(\" \")), reviews))\n",
    "\n",
    "vocab = set()\n",
    "for sent in tokens:\n",
    "    for word in sent:\n",
    "        if(len(word)>0):\n",
    "            vocab.add(word)\n",
    "vocab = list(vocab)\n",
    "\n",
    "word2index = {}\n",
    "for i,word in enumerate(vocab):\n",
    "    word2index[word]=i\n",
    "\n",
    "input_dataset = list()\n",
    "for sent in tokens:\n",
    "    sent_indices = list()\n",
    "    for word in sent:\n",
    "        try:\n",
    "            sent_indices.append(word2index[word])\n",
    "        except:\n",
    "            \"\"\n",
    "    input_dataset.append(list(set(sent_indices)))\n",
    "\n",
    "target_dataset = list()\n",
    "for label in labels:\n",
    "    if label == \"POSITIVE\":\n",
    "        target_dataset.append(1)\n",
    "    else:\n",
    "        target_dataset.append(0)"
   ]
  },
  {
   "cell_type": "code",
   "execution_count": 145,
   "metadata": {},
   "outputs": [
    {
     "name": "stdout",
     "output_type": "stream",
     "text": [
      "[37889, 69124, 20489, 27145, 49163, 34346, 59950, 13362, 44086, 29760, 33345, 2114, 42564, 37956, 46149, 38479, 62039, 21596, 26717, 26205, 16990, 33379, 53859, 47214, 38007, 35968, 67201, 66184, 19595, 32909, 31893, 41625, 36003, 62638, 43700, 4277, 15035, 28351, 37060, 20176, 5328, 6872, 53473, 71401, 40170, 14069, 40697, 3838, 29439, 10497, 47363, 48927, 27430, 53031, 61741, 20300, 60752, 67922, 35674, 41311, 5481, 61298, 60282, 5503, 37254, 66442, 1425, 58259, 55191, 15275, 70063, 63411, 25526, 10167, 41917, 42429, 51137, 12738, 29633, 33218, 71628, 14293, 15318, 59352, 23512, 24028, 14829, 69104, 57842, 22515, 59382, 72187] 1\n",
      "92\n"
     ]
    }
   ],
   "source": [
    "# First reveiw and its corresponding target\n",
    "print(input_dataset[0], target_dataset[0])\n",
    "\n",
    "print(len(input_dataset[0]))"
   ]
  },
  {
   "cell_type": "code",
   "execution_count": 146,
   "metadata": {},
   "outputs": [],
   "source": [
    "# Let's split the dataset into train and testing set\n",
    "train_test_split = 0.6 ## 60% of the review will be used for training and rest of 40% for testing\n",
    "\n",
    "train_test_split_index = int(len(input_dataset) * 0.9)\n",
    "\n",
    "train_review_dataset = input_dataset[0:train_test_split_index]\n",
    "test_review_dataset = input_dataset[train_test_split_index:]\n",
    "\n",
    "train_label = target_dataset[0:train_test_split_index]\n",
    "test_label = target_dataset[train_test_split_index:]\n",
    "\n",
    "assert(len(train_review_dataset) == len(train_label))\n"
   ]
  },
  {
   "cell_type": "markdown",
   "metadata": {},
   "source": [
    "The architecture of our neural network is very simple. At the first layer we will select corresponing rows of weight matrix instead of doing a very costly vector-matrix multiplication. The next layer will consist of 100 neurons and the final layer will have single neuron.\n",
    "\n",
    "After calculating the output of final layer we will use backpropagation algorithm to update weights.\n",
    "\n",
    "To calculate the accuracy we will find the difference between our prediction i.e layer_2 and correct prediction. If the difference between them is less than 0.5 then we will assume that our prediction is correct.\n",
    "\n",
    "We will use sigmoid activation function."
   ]
  },
  {
   "cell_type": "code",
   "execution_count": 147,
   "metadata": {},
   "outputs": [],
   "source": [
    "## Let's define an activation function\n",
    "\n",
    "def sigmoid(x):\n",
    "    return 1 / (1 + np.exp(-x))\n",
    "\n",
    "def sigmoid2deriv(x):\n",
    "    return x * (1 - x)\n"
   ]
  },
  {
   "cell_type": "code",
   "execution_count": 148,
   "metadata": {},
   "outputs": [],
   "source": [
    "num_input = len(vocab)\n",
    "num_hidden = 100\n",
    "num_output = 1\n"
   ]
  },
  {
   "cell_type": "code",
   "execution_count": 154,
   "metadata": {},
   "outputs": [
    {
     "name": "stdout",
     "output_type": "stream",
     "text": [
      "(74073, 100)\n",
      "(100, 1)\n"
     ]
    }
   ],
   "source": [
    "weights_0_1 = 0.02 * np.random.random((num_input, num_hidden)) - 0.01\n",
    "print(weights_0_1.shape)\n",
    "weights_1_2 = 0.02 * np.random.random((num_hidden, num_output)) - 0.01\n",
    "print(weights_1_2.shape)"
   ]
  },
  {
   "cell_type": "code",
   "execution_count": 155,
   "metadata": {},
   "outputs": [
    {
     "name": "stdout",
     "output_type": "stream",
     "text": [
      "Iteration: 3\n",
      "Train Accuracy: 76.14% Train Error: [0.22116486]\n",
      "Test Accuracy: 77.60% Test Error: [0.19269695]\n",
      "Iteration: 6\n",
      "Train Accuracy: 86.31% Train Error: [0.10339513]\n",
      "Test Accuracy: 85.12% Test Error: [0.10943309]\n",
      "Iteration: 9\n",
      "Train Accuracy: 89.50% Train Error: [0.07871256]\n",
      "Test Accuracy: 85.96% Test Error: [0.09721294]\n",
      "Iteration: 12\n",
      "Train Accuracy: 91.54% Train Error: [0.06512396]\n",
      "Test Accuracy: 86.88% Test Error: [0.0939214]\n",
      "Iteration: 15\n",
      "Train Accuracy: 93.01% Train Error: [0.05554205]\n",
      "Test Accuracy: 87.32% Test Error: [0.09355907]\n",
      "Iteration: 18\n",
      "Train Accuracy: 94.18% Train Error: [0.04800082]\n",
      "Test Accuracy: 87.60% Test Error: [0.09429767]\n",
      "Iteration: 21\n",
      "Train Accuracy: 95.01% Train Error: [0.04173533]\n",
      "Test Accuracy: 87.16% Test Error: [0.09546391]\n",
      "Iteration: 24\n",
      "Train Accuracy: 95.75% Train Error: [0.03640588]\n",
      "Test Accuracy: 86.84% Test Error: [0.09677049]\n"
     ]
    }
   ],
   "source": [
    "num_iterations = 24\n",
    "lr = 0.001\n",
    "training_losses = list()\n",
    "testing_losses = list()\n",
    "\n",
    "for itera in range(1, num_iterations + 1):\n",
    "    error = 0\n",
    "    correct = 0\n",
    "    \n",
    "    for idx in range(len(train_review_dataset)):\n",
    "        layer_1 = np.sum(weights_0_1[train_review_dataset[idx]], axis=0)\n",
    "        layer_1 = sigmoid(layer_1)\n",
    "        layer_2 = weights_1_2.T.dot(layer_1)\n",
    "        layer_2 = sigmoid(layer_2)\n",
    "        \n",
    "        error = error + (layer_2 - train_label[idx]) ** 2\n",
    "        \n",
    "        layer_2_delta = layer_2 - train_label[idx]\n",
    "        layer_1_delta = weights_1_2.dot(layer_2_delta) * sigmoid2deriv(layer_1)\n",
    "        \n",
    "        delta_weights_1_2 = layer_1.reshape(100,1).dot(layer_2_delta.reshape(1, 1))\n",
    "        delta_weights_0_1 = layer_1_delta\n",
    "    \n",
    "        weights_1_2 = weights_1_2 - lr * delta_weights_1_2\n",
    "\n",
    "        weights_0_1[input_dataset[idx]] = weights_0_1[train_review_dataset[idx]] - lr * layer_1_delta\n",
    "        \n",
    "        correct = correct + int(np.abs(layer_2_delta) < 0.5)\n",
    "    \n",
    "    \n",
    "    if itera % 3 == 0:\n",
    "        test_error = 0\n",
    "        test_correct = 0\n",
    "\n",
    "        for idx in range(len(test_review_dataset)):\n",
    "\n",
    "            layer_1 = np.sum(weights_0_1[test_review_dataset[idx]], axis=0)\n",
    "            layer_1 = sigmoid(layer_1)\n",
    "            layer_2 = weights_1_2.T.dot(layer_1)\n",
    "            layer_2 = sigmoid(layer_2)\n",
    "\n",
    "            test_error = test_error + (layer_2 - test_label[idx]) ** 2\n",
    "            test_correct = test_correct + int(np.abs(layer_2 - test_label[idx]) < 0.5)\n",
    "\n",
    "\n",
    "\n",
    "\n",
    "\n",
    "\n",
    "        print(\"Iteration: {}\".format(itera))\n",
    "        print(\"Train Accuracy: {:.2f}% Train Error: {}\".format((correct/len(train_review_dataset)) * 100,\n",
    "                                                           error/len(train_review_dataset)))\n",
    "        print(\"Test Accuracy: {:.2f}% Test Error: {}\".format((test_correct/len(test_review_dataset)) * 100,\n",
    "              test_error/len(test_review_dataset)))\n",
    "    \n",
    "    training_losses.append(error)\n",
    "    testing_losses.append(test_error)"
   ]
  },
  {
   "cell_type": "code",
   "execution_count": 156,
   "metadata": {},
   "outputs": [
    {
     "data": {
      "text/plain": [
       "<matplotlib.legend.Legend at 0x7f73e81bdc70>"
      ]
     },
     "execution_count": 156,
     "metadata": {},
     "output_type": "execute_result"
    },
    {
     "data": {
      "image/png": "[encoded data removed]",
      "text/plain": [
       "<Figure size 432x288 with 1 Axes>"
      ]
     },
     "metadata": {
      "needs_background": "light"
     },
     "output_type": "display_data"
    }
   ],
   "source": [
    "plt.plot(training_losses, \"r\", label=\"Train Loss\")\n",
    "plt.plot(testing_losses, \"b\", label=\"Test Loss\")\n",
    "plt.legend()"
   ]
  },
  {
   "cell_type": "code",
   "execution_count": 157,
   "metadata": {},
   "outputs": [],
   "source": [
    "## Inference\n",
    "\n",
    "def predict_sentiment(review):\n",
    "    \n",
    "    sent_indices = list()\n",
    "    for word in review.split(\" \"):\n",
    "        try:\n",
    "            sent_indices.append(word2index[word])\n",
    "        except:\n",
    "            \"\"\n",
    "    layer_1 = np.sum(weights_0_1[sent_indices], axis=0)\n",
    "    layer_1 = sigmoid(layer_1)\n",
    "    layer_2 = weights_1_2.T.dot(layer_1)\n",
    "    layer_2 = sigmoid(layer_2)\n",
    "    \n",
    "    if np.abs(layer_2) > 0.5:\n",
    "        return \"Positive\"\n",
    "    else:\n",
    "        return \"Negative\"\n"
   ]
  },
  {
   "cell_type": "code",
   "execution_count": 158,
   "metadata": {},
   "outputs": [],
   "source": [
    "## Review with emphasisis on positive and negative words.\n",
    "\n",
    "test_reviews = [\n",
    "    \"plot of the movie was very good, i really like it\",\n",
    "    \"lovely flim\",\n",
    "    \"dumbest plot, bad movie\",\n",
    "    \"i do not like the movie, worst \",\n",
    "    \n",
    "    \"bad\",\n",
    "    \"good\",\n",
    "    \"Wonderful movie\",\n",
    "    \"film\",\n",
    "    \"worst movie of all time\",\n",
    "    \"Not Good\",\n",
    "    \"Not Bad\"\n",
    "]"
   ]
  },
  {
   "cell_type": "code",
   "execution_count": 159,
   "metadata": {},
   "outputs": [
    {
     "name": "stdout",
     "output_type": "stream",
     "text": [
      "PLOT OF THE MOVIE WAS VERY GOOD, I REALLY LIKE IT : Positive\n",
      "LOVELY FLIM : Positive\n",
      "DUMBEST PLOT, BAD MOVIE : Negative\n",
      "I DO NOT LIKE THE MOVIE, WORST  : Negative\n",
      "BAD : Negative\n",
      "GOOD : Positive\n",
      "WONDERFUL MOVIE : Positive\n",
      "FILM : Positive\n",
      "WORST MOVIE OF ALL TIME : Negative\n",
      "NOT GOOD : Positive\n",
      "NOT BAD : Negative\n"
     ]
    }
   ],
   "source": [
    "for test_review in test_reviews:\n",
    "    test_review = test_review.upper()\n",
    "    print(\"{} : {}\".format(test_review, predict_sentiment(test_review)))"
   ]
  },
  {
   "cell_type": "markdown",
   "metadata": {},
   "source": [
    "As we can see, our model was not able to understand \"Negation\" very well. It predicts \"NOT GOOD\" as positive and \"NOT BAD\" as Negative. The problem is every word is given a number and to counter that word we need another very powerful word. Example if we want a review to be positive then we need a lot of positive words and if we want a review to be negative then we need a lot of negative words.\n",
    "\n"
   ]
  },
  {
   "cell_type": "code",
   "execution_count": null,
   "metadata": {},
   "outputs": [],
   "source": []
  }
 ],
 "metadata": {
  "kernelspec": {
   "display_name": "Python 3",
   "language": "python",
   "name": "python3"
  },
  "language_info": {
   "codemirror_mode": {
    "name": "ipython",
    "version": 3
   },
   "file_extension": ".py",
   "mimetype": "text/x-python",
   "name": "python",
   "nbconvert_exporter": "python",
   "pygments_lexer": "ipython3",
   "version": "3.8.2"
  }
 },
 "nbformat": 4,
 "nbformat_minor": 4
}
