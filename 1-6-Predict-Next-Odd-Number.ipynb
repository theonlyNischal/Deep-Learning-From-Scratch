{
 "cells": [
  {
   "cell_type": "markdown",
   "metadata": {},
   "source": [
    "**Introduction**\n",
    "\n",
    "In this notebook we are going to do a very trivial task of finding a next odd number given a input sequence. That is, if the input sequence is 35, 37 our model should predict 39 as output. The goal of this notebook is to observe how a neural network is learning and see why choosing a right hyperparameter matters.\n",
    "\n",
    "**Good model is all about good selection of features, number of layers, learning rate and other hyperparameter**\n",
    "\n",
    "When we start designing a neural network system much of the task is to determine right amount of layers, the right amount to hyperparamters. There is a very little chance that we will get good results in our first attempt if we start to choose hyperpaters and number layers arbitarily. The best approach is to look at the literature and find out what people are doing. If it work for them, then it will work for us too.\n",
    "\n",
    "When we first attempt to solve the problem of determinig a next odd number, We started randomly with 4 layer neural network. The result was terrible. If we take a copy and pencil The task of determining a next odd number is very simple such that we don't need a very deep neural network. But simple doens't mean it is alwyas easy to implement.\n",
    "\n",
    "In this case Just a input layer and single computation layer at output is sufficient to calculate a odd number. But what will be the limit to trainset. There are infinite odd numbers both +ve and -ve. Our model will be as good as our training set is. \n",
    "\n",
    "Another problem will be what will be the length of input sequence. We can take only 1 number as input sequence, we can take 2, we can take 10. These things really matter because the goal is to reach to a certain number by multiplication and addition. The more numbers, the more complication. Another idea it give us is if we can take multiple number as input, then we can have multiple number as output, say input is 1, 3 and output will be 5 and 7 or anything like this.\n",
    "\n",
    "**Representation of Input Sequence**\n",
    "\n",
    "Next problem is representation of the input sequence, we can take input sequence as 1, 3, 5 or one-hot encode them. If we have a large vocabulary then one-hot encode will be very bad as much of the task will be multiplication with 0s, so we may use embedding to select corresponding rows and sum them up to avoid the multiplication with 0s.\n",
    "\n",
    "**Learning Rate**\n",
    "\n",
    "The problem with gradients is they work for very small amount. So we scale down the derivative by learning rate. But if we scale down by very small value our neural net will take forever to learn and if we take large learning rate we will miss the point where error is 0. And we know the goal of a deep learning model is not to make correct prediction but to lower down the error everytime.\n",
    "\n",
    "**Neural Network is adapting to our dataset**\n",
    "Our neural net is as good as our dataset. The net is training over a training set over and over again. In the following example we train our model from 1 to 999. What will happen if we give a number beyond 999? Our neural net will do good if we provide number very close to 999, but if we select large numbers say 99999995, 99999997, our net will not do good because it has not seen this thing in its training.\n",
    "\n",
    "In this simple excersise, I have taken a trainset from 1 to 999. I think the the good approach would be to select a very large trainset. But taking such a large trainset would take forever to train. So we may skip some sequences from the trainset. This skipped sequence may be used for testing too.\n",
    "\n",
    "**Will this next odd number prediction will work for even numbers too?**\n",
    "\n",
    "Interestingly Yes. The reason lies behind the weights. Because weights is what the neural net learns we can predict the behaviour of neural net in terms of weights.\n",
    "\n",
    "Our very simple neural net in equation is $$output = AW_1 + BW_2$$\n",
    "\n",
    "**A** and **B** are input so our model will not do anything to them. But weights will be updated. After training we found out that our model set weight_1 to -1 and weight_2 to -2. i.e It is trying to do \n",
    "\n",
    "$$output = -A + 2B$$ \n",
    "\n",
    "$$output = 2B - A$$\n",
    "\n",
    "By induction we can prove that if A, B are odd numbers in sequence 2B-A will be also odd numbers and the case is also applicable to even numbers.\n",
    "\n"
   ]
  },
  {
   "cell_type": "code",
   "execution_count": 1,
   "metadata": {},
   "outputs": [],
   "source": [
    "import numpy as np"
   ]
  },
  {
   "cell_type": "code",
   "execution_count": 97,
   "metadata": {},
   "outputs": [
    {
     "data": {
      "text/plain": [
       "array([  1,   3,   5,   7,   9,  11,  13,  15,  17,  19,  21,  23,  25,\n",
       "        27,  29,  31,  33,  35,  37,  39,  41,  43,  45,  47,  49,  51,\n",
       "        53,  55,  57,  59,  61,  63,  65,  67,  69,  71,  73,  75,  77,\n",
       "        79,  81,  83,  85,  87,  89,  91,  93,  95,  97,  99, 101, 103,\n",
       "       105, 107, 109, 111, 113, 115, 117, 119, 121, 123, 125, 127, 129,\n",
       "       131, 133, 135, 137, 139, 141, 143, 145, 147, 149, 151, 153, 155,\n",
       "       157, 159, 161, 163, 165, 167, 169, 171, 173, 175, 177, 179, 181,\n",
       "       183, 185, 187, 189, 191, 193, 195, 197, 199, 201, 203, 205, 207,\n",
       "       209, 211, 213, 215, 217, 219, 221, 223, 225, 227, 229, 231, 233,\n",
       "       235, 237, 239, 241, 243, 245, 247, 249, 251, 253, 255, 257, 259,\n",
       "       261, 263, 265, 267, 269, 271, 273, 275, 277, 279, 281, 283, 285,\n",
       "       287, 289, 291, 293, 295, 297, 299, 301, 303, 305, 307, 309, 311,\n",
       "       313, 315, 317, 319, 321, 323, 325, 327, 329, 331, 333, 335, 337,\n",
       "       339, 341, 343, 345, 347, 349, 351, 353, 355, 357, 359, 361, 363,\n",
       "       365, 367, 369, 371, 373, 375, 377, 379, 381, 383, 385, 387, 389,\n",
       "       391, 393, 395, 397, 399, 401, 403, 405, 407, 409, 411, 413, 415,\n",
       "       417, 419, 421, 423, 425, 427, 429, 431, 433, 435, 437, 439, 441,\n",
       "       443, 445, 447, 449, 451, 453, 455, 457, 459, 461, 463, 465, 467,\n",
       "       469, 471, 473, 475, 477, 479, 481, 483, 485, 487, 489, 491, 493,\n",
       "       495, 497, 499, 501, 503, 505, 507, 509, 511, 513, 515, 517, 519,\n",
       "       521, 523, 525, 527, 529, 531, 533, 535, 537, 539, 541, 543, 545,\n",
       "       547, 549, 551, 553, 555, 557, 559, 561, 563, 565, 567, 569, 571,\n",
       "       573, 575, 577, 579, 581, 583, 585, 587, 589, 591, 593, 595, 597,\n",
       "       599, 601, 603, 605, 607, 609, 611, 613, 615, 617, 619, 621, 623,\n",
       "       625, 627, 629, 631, 633, 635, 637, 639, 641, 643, 645, 647, 649,\n",
       "       651, 653, 655, 657, 659, 661, 663, 665, 667, 669, 671, 673, 675,\n",
       "       677, 679, 681, 683, 685, 687, 689, 691, 693, 695, 697, 699, 701,\n",
       "       703, 705, 707, 709, 711, 713, 715, 717, 719, 721, 723, 725, 727,\n",
       "       729, 731, 733, 735, 737, 739, 741, 743, 745, 747, 749, 751, 753,\n",
       "       755, 757, 759, 761, 763, 765, 767, 769, 771, 773, 775, 777, 779,\n",
       "       781, 783, 785, 787, 789, 791, 793, 795, 797, 799, 801, 803, 805,\n",
       "       807, 809, 811, 813, 815, 817, 819, 821, 823, 825, 827, 829, 831,\n",
       "       833, 835, 837, 839, 841, 843, 845, 847, 849, 851, 853, 855, 857,\n",
       "       859, 861, 863, 865, 867, 869, 871, 873, 875, 877, 879, 881, 883,\n",
       "       885, 887, 889, 891, 893, 895, 897, 899, 901, 903, 905, 907, 909,\n",
       "       911, 913, 915, 917, 919, 921, 923, 925, 927, 929, 931, 933, 935,\n",
       "       937, 939, 941, 943, 945, 947, 949, 951, 953, 955, 957, 959, 961,\n",
       "       963, 965, 967, 969, 971, 973, 975, 977, 979, 981, 983, 985, 987,\n",
       "       989, 991, 993, 995, 997, 999])"
      ]
     },
     "execution_count": 97,
     "metadata": {},
     "output_type": "execute_result"
    }
   ],
   "source": [
    "\n",
    "## Odd Numbers\n",
    "odd_numbers = np.arange(1,1000, 2)\n",
    "\n",
    "odd_numbers"
   ]
  },
  {
   "cell_type": "code",
   "execution_count": 99,
   "metadata": {},
   "outputs": [
    {
     "name": "stdout",
     "output_type": "stream",
     "text": [
      "[[ 1  3]\n",
      " [ 3  5]\n",
      " [ 5  7]\n",
      " [ 7  9]\n",
      " [ 9 11]\n",
      " [11 13]\n",
      " [13 15]\n",
      " [15 17]\n",
      " [17 19]\n",
      " [19 21]] [ 5  7  9 11 13 15 17 19 21 23]\n"
     ]
    }
   ],
   "source": [
    "## Every third item is set as label and preceeding two are used as input\n",
    "trainset = list()\n",
    "labelset = list()\n",
    "for idx in range(len(odd_numbers) - 2):\n",
    "    trainset.append(odd_numbers[idx:idx+2])\n",
    "    labelset.append(odd_numbers[idx+2])\n",
    "    \n",
    "\n",
    "trainset = np.array(trainset)\n",
    "labelset = np.array(labelset)\n",
    "print(trainset[:10], labelset[:10])"
   ]
  },
  {
   "cell_type": "code",
   "execution_count": 105,
   "metadata": {},
   "outputs": [],
   "source": [
    "input_size = 2\n",
    "output_size = 1\n",
    "\n",
    "weights = 0.002 * np.random.random((input_size, output_size)) - 0.001"
   ]
  },
  {
   "cell_type": "code",
   "execution_count": 106,
   "metadata": {},
   "outputs": [
    {
     "name": "stdout",
     "output_type": "stream",
     "text": [
      "[537.04062209]\n",
      "[0.14732045]\n",
      "[0.03075542]\n",
      "[0.00642067]\n",
      "[0.00134041]\n",
      "[0.00027983]\n",
      "[5.84192976e-05]\n",
      "[1.21959319e-05]\n",
      "[2.54608939e-06]\n",
      "[5.31535538e-07]\n",
      "[1.10966264e-07]\n"
     ]
    }
   ],
   "source": [
    "num_iterations = 100000\n",
    "lr = 0.000001\n",
    "for itera in range(num_iterations):\n",
    "    error = 0\n",
    "    for idx in range(len(trainset)):\n",
    "        label = labelset[idx]\n",
    "        layer_0 = trainset[idx]\n",
    "        \n",
    "        output = layer_0.dot(weights)\n",
    "        \n",
    "        error = error + (output - label) ** 2\n",
    "        \n",
    "        delta_output = output - label\n",
    "        \n",
    "        delta_weights = layer_0.reshape(input_size,1).dot(delta_output.reshape(1,output_size))\n",
    "        \n",
    "        weights = weights - lr * delta_weights\n",
    "        \n",
    "        \n",
    "        \n",
    "    if itera % 9999 == 0:    \n",
    "        print(error/len(trainset))\n",
    "            "
   ]
  },
  {
   "cell_type": "code",
   "execution_count": 107,
   "metadata": {},
   "outputs": [],
   "source": [
    "def predict_next_odd(input_sequence):\n",
    "    layer_0 = input_sequence   \n",
    "    output = layer_0.dot(weights)\n",
    "    \n",
    "    print(\"Predicted: {}\".format(output))"
   ]
  },
  {
   "cell_type": "code",
   "execution_count": 108,
   "metadata": {},
   "outputs": [
    {
     "name": "stdout",
     "output_type": "stream",
     "text": [
      "Predicted: [102.9989343]\n"
     ]
    }
   ],
   "source": [
    "predict_next_odd(np.array([99, 101]))"
   ]
  },
  {
   "cell_type": "code",
   "execution_count": 109,
   "metadata": {},
   "outputs": [
    {
     "name": "stdout",
     "output_type": "stream",
     "text": [
      "Predicted: [-904.99988714]\n"
     ]
    }
   ],
   "source": [
    "predict_next_odd(np.array([-901, -903]))"
   ]
  },
  {
   "cell_type": "code",
   "execution_count": 110,
   "metadata": {},
   "outputs": [
    {
     "name": "stdout",
     "output_type": "stream",
     "text": [
      "Predicted: [905.99988833]\n"
     ]
    }
   ],
   "source": [
    "## Try them on even numbers\n",
    "predict_next_odd(np.array([902, 904]))"
   ]
  },
  {
   "cell_type": "code",
   "execution_count": 111,
   "metadata": {},
   "outputs": [
    {
     "data": {
      "text/plain": [
       "array([[-0.99940715],\n",
       "       [ 1.99940834]])"
      ]
     },
     "execution_count": 111,
     "metadata": {},
     "output_type": "execute_result"
    }
   ],
   "source": [
    "weights"
   ]
  },
  {
   "cell_type": "code",
   "execution_count": 116,
   "metadata": {},
   "outputs": [
    {
     "name": "stdout",
     "output_type": "stream",
     "text": [
      "Predicted: [10000006.87962529]\n"
     ]
    }
   ],
   "source": [
    "## Try them on even numbers\n",
    "predict_next_odd(np.array([9999991, 9999993]))"
   ]
  },
  {
   "cell_type": "code",
   "execution_count": 117,
   "metadata": {},
   "outputs": [
    {
     "name": "stdout",
     "output_type": "stream",
     "text": [
      "Predicted: [504.99941191]\n"
     ]
    }
   ],
   "source": [
    "predict_next_odd(np.array([501, 503]))"
   ]
  },
  {
   "cell_type": "code",
   "execution_count": null,
   "metadata": {},
   "outputs": [],
   "source": []
  }
 ],
 "metadata": {
  "kernelspec": {
   "display_name": "Python 3",
   "language": "python",
   "name": "python3"
  },
  "language_info": {
   "codemirror_mode": {
    "name": "ipython",
    "version": 3
   },
   "file_extension": ".py",
   "mimetype": "text/x-python",
   "name": "python",
   "nbconvert_exporter": "python",
   "pygments_lexer": "ipython3",
   "version": "3.8.2"
  }
 },
 "nbformat": 4,
 "nbformat_minor": 4
}
